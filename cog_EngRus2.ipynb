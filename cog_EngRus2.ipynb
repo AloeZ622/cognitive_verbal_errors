{
 "cells": [
  {
   "cell_type": "code",
   "execution_count": 3,
   "id": "4ebe3fc3",
   "metadata": {},
   "outputs": [
    {
     "name": "stdout",
     "output_type": "stream",
     "text": [
      "       id  sentence_id              tag               quote  \\\n",
      "0    7944         1002            ortho           окружющей   \n",
      "1  101216         1006          agrcase        промышленным   \n",
      "2   18818         1009           syntax         воздействую   \n",
      "3  119778         1009     ortho,altern  желудожно-кишечный   \n",
      "4   18819         1012  syntax,transfer                 это   \n",
      "\n",
      "           correction  start  end annotation_source  \n",
      "0          окружающей     12   13            manual  \n",
      "1        промышленных      4    5            manual  \n",
      "2         воздействуя     12   13            manual  \n",
      "3  желудочно-кишечный     17   18            manual  \n",
      "4                          7    8            manual  \n",
      "Index(['id', 'sentence_id', 'tag', 'quote', 'correction', 'start', 'end',\n",
      "       'annotation_source'],\n",
      "      dtype='object')\n",
      "(41410, 8)\n",
      "   id subcorpus native language_background level  words  sentences\n",
      "0   1     RULEC    eng                  HL    AM    431         22\n",
      "1   3     RULEC    eng                  HL    AM    245         17\n",
      "2   5     RULEC    eng                  FL    AM    472         22\n",
      "3   6     RULEC    eng                  FL    IH    319         24\n",
      "4   7     RULEC    eng                  HL    AL     44          2\n",
      "Index(['id', 'subcorpus', 'native', 'language_background', 'level', 'words',\n",
      "       'sentences'],\n",
      "      dtype='object')\n",
      "(2004, 7)\n",
      "                                           text_orig  \\\n",
      "0  Друг - это тот человек который прямо скажет мн...   \n",
      "1  Друг - это тот человек который прямо скажет мн...   \n",
      "2             Мама готовить вкусно и я учился у нее.   \n",
      "3  Там мы говорем с друзами, делаем домиини здани...   \n",
      "4  Там мы говорем с друзами, делаем домиини здани...   \n",
      "\n",
      "                                            text_cor     quote correction  \\\n",
      "0  Друг - это тот человек, который прямо скажет м...   неправд     неправ   \n",
      "1  Друг - это тот человек, который прямо скажет м...   дальшее     дальше   \n",
      "2              Мама готовит вкусно и я учился у нее.  готовить    готовит   \n",
      "3  Там мы говорим с друзьями, делаем домашние зад...   говорем    говорим   \n",
      "4  Там мы говорим с друзьями, делаем домашние зад...   друзами   друзьями   \n",
      "\n",
      "     tag  \n",
      "0  Morph  \n",
      "1    Com  \n",
      "2  Ortho  \n",
      "3   Infl  \n",
      "4   Infl  \n",
      "Index(['text_orig', 'text_cor', 'quote', 'correction', 'tag'], dtype='object')\n",
      "(519, 5)\n",
      "     id  document_id  sentence_index  \\\n",
      "0  1001            1               1   \n",
      "1  1002            1               2   \n",
      "2  1003            1               3   \n",
      "3  1004            1               4   \n",
      "4  1005            1               5   \n",
      "\n",
      "                                                text  \\\n",
      "0  Загрязнение тяжелыми металлами Дальнегорского ...   \n",
      "1  Одной из самых главных экологических проблем н...   \n",
      "2  Эта проблема особеннo характерна для тех местн...   \n",
      "3  Согласно проведенным исследованиям Тихоокеанск...   \n",
      "4  В ходе исследования было выявлено высокое соде...   \n",
      "\n",
      "                                           corrected status  \n",
      "0  Загрязнение тяжелыми металлами Дальнегорского ...    NaN  \n",
      "1  Одной из самых главных экологических проблем н...    NaN  \n",
      "2  Эта проблема особеннo характерна для тех местн...    NaN  \n",
      "3  Согласно проведенным исследованиям Тихоокеанск...    NaN  \n",
      "4  В ходе исследования было выявлено высокое соде...    NaN  \n",
      "Index(['id', 'document_id', 'sentence_index', 'text', 'corrected', 'status'], dtype='object')\n",
      "(31519, 6)\n"
     ]
    }
   ],
   "source": [
    "import pandas as pd\n",
    "\n",
    "# 读取 annotations.csv\n",
    "annotations = pd.read_csv('/Users/aloez/Downloads/annotations.csv')\n",
    "print(annotations.head())  # 查看前几行数据\n",
    "print(annotations.columns)  # 查看列名\n",
    "print(annotations.shape)  # 查看数据的行数和列数\n",
    "\n",
    "# 读取 documents.csv\n",
    "documents = pd.read_csv('/Users/aloez/Downloads/documents.csv')\n",
    "print(documents.head())\n",
    "print(documents.columns)\n",
    "print(documents.shape)\n",
    "\n",
    "# 读取 rlc_test.csv\n",
    "rlc_test = pd.read_csv('/Users/aloez/Downloads/rlc_test.csv')\n",
    "print(rlc_test.head())\n",
    "print(rlc_test.columns)\n",
    "print(rlc_test.shape)\n",
    "\n",
    "# 读取 sentences.csv\n",
    "sentences = pd.read_csv('/Users/aloez/Downloads/sentences.csv')\n",
    "print(sentences.head())\n",
    "print(sentences.columns)\n",
    "print(sentences.shape)"
   ]
  },
  {
   "cell_type": "code",
   "execution_count": 7,
   "id": "8e5f1511",
   "metadata": {},
   "outputs": [
    {
     "name": "stdout",
     "output_type": "stream",
     "text": [
      "属格错误数量：0，宾格错误数量：0\n"
     ]
    }
   ],
   "source": [
    "# 假设 tag 含 'genitive' 代表属格错误，筛选这类数据，添加 na=False 处理空值\n",
    "genitive_errors = annotations[annotations['tag'].str.contains('genitive', case=False, na=False)]\n",
    "# 同理筛选宾格错误，添加 na=False\n",
    "accusative_errors = annotations[annotations['tag'].str.contains('accusative', case=False, na=False)]\n",
    "\n",
    "# 统计数量\n",
    "genitive_count = genitive_errors.shape[0]\n",
    "accusative_count = accusative_errors.shape[0]\n",
    "print(f\"属格错误数量：{genitive_count}，宾格错误数量：{accusative_count}\")"
   ]
  },
  {
   "cell_type": "code",
   "execution_count": 11,
   "id": "5697a629",
   "metadata": {},
   "outputs": [
    {
     "name": "stdout",
     "output_type": "stream",
     "text": [
      "['ortho' 'agrcase' 'syntax' ... 'hyphen+ins' 'nominative' 'hyphen+del']\n",
      "['ortho', 'agrcase', 'syntax', 'ortho,altern', 'syntax,transfer', 'infl', 'infl,subst', 'gov', 'constr,transfer', 'altern', 'lex,transfer', 'ref', 'constr', 'lex', 'wo', 'conj', nan, 'brev', 'morph', 'ortho,space', 'transfer,infl', 'num', 'transfer', 'deriv,refl', 'punct', 'asp,morph', 'agrpers', 'num,transfer', 'par', 'space', 'ortho,subst', 'tense,punct', 'ref,subst,transfer', 'ref,deriv', 'lex,not-clear', 'constr,asp', 'lex,prep,gov,transfer', 'agrnum', 'asp', 'com', 'hyphen', 'lex,ortho', 'conj,miss,space,extra', 'conj,miss', 'ortho,miss', 'ortho,not-clear', 'agrgender', 'lex,constr,gov', 'syntax,transfer,conj,wo', 'lex,constr,transfer,idiom,prep', 'deriv', 'constr,conj', 'wo,transfer', 'ref,transfer', 'translit', 'transfer,lex', 'gov,constr', 'misspell', 'subst,constr', 'not-clear', 'transfer,syntax', 'wo,syntax', 'constr,syntax', 'conj,space', 'constr,lex', 'idiom,transfer', 'agrcase,gov', 'ortho,misspell', 'impers', 'lex,syntax', 'gov,infl', 'agrcase,agrnum', 'lex,constr', 'constr,lex,asp', 'gov,agrcase', 'not-clear,lex', 'conj,lex', 'lex,subst', 'subst,misspell', 'conj,lex,constr,transfer', 'asp,tense', 'neg', 'lex,idiom', 'mode', 'prep', 'ortho,transp', 'agrstr,gov,constr', 'gov,prep,constr', 'wo,agrnum,lex', 'wo,ortho,lex', 'aux', 'ortho,constr', 'ortho,lex', 'ortho,gov', 'lex,par', 'ortho,gender', 'agrgender,tense', 'gov,constr,syntax', 'tense', 'lex,miss', 'ortho,hyphen', 'ortho,agrgender', 'prep,transfer', 'syntax,ortho', 'refl', 'space,deriv', 'agrgender,ortho,miss', 'del', 'lex,num', 'insert', 'delw', 'gov,constr,agrstr', 'agrstr,gov,lex,syntax', 'agrnum,asp', 'ref,agrstr', 'wo,ortho', 'lex,prep', 'ref,agrnum', 'agrcase,syntax', 'lex,conj', 'ortho,transfer', 'gov,constr,lex,syntax', 'gov,agrcase,constr', 'gov,syntax', 'gov,agrcase,gender', 'gov,agrgender', 'gov,gender', 'lex,gov,constr,transfer', 'gov,agrcase,ortho', 'ortho,agrcase', 'рецензией', 'conj,constr,lex,transfer', 'ortho,num', 'conj,constr,transfer,space', 'hyphen,punct', 'mode,transfer', 'transp', 'infl,ortho', 'ortho,ortho,morph', 'translit,morph', 'constr,subst', 'ortho,subst,wo', 'infl,morph', 'wo,constr', 'space,lex', 'ortho,prep', 'gender', 'refl,asp', 'deriv,asp,refl', 'ortho,subst,altern', 'altern,ortho,subst', 'agrcase,lex', 'agrstr', 'graph,transfer', 'graph', 'gov,constr,constr,subst', 'gov,graph', 'constr,transfer,agrstr', 'agrgender,agrnum', 'gov,num', 'not-clear,aux', 'agrnum,lex,miss', 'ortho,extra', 'ortho,miss,space,extra', 'space,extra,ortho,miss,punct', 'lex,prep,constr', 'misspell,subst', 'conj,lex,constr', 'addw', 'infl,gov,prep', 'infl,gender', 'lex,misspell,subst', 'constr,gov', 'ortho,ortho', 'num,ortho', 'lex,deriv', 'lex,refl', 'agrgerund', 'gov,transfer', 'transfer,agrcase', 'constr,refl', 'constr,wo,lex', 'space,subst', 'agrcase,infl', 'misspell,deriv', 'passive', 'lex,coord', 'gov,prep', 'gov,lex', 'gov,infl,morph', 'gov,constr,prep,miss', 'ref,morph', 'gov,constr,prep', 'gov,lex,constr', 'subst', 'ortho,agrpers', 'ref,agrgender', 'gov,agrcase,lex', 'constr,agrcase,gov', 'agrcase,constr', 'mode,tense', 'agrcase,constr,gov', 'transp,gov,lex', 'gov,constr,lex', 'subst,transfer', 'par,asp', 'agrnum,infl', 'ortho,par', 'subst,ortho,par', 'tense,ortho,subst', 'gov,prep,misspell', 'agrgender,agrcase', 'conj,extra', 'syntax,constr,tense', 'syntax,constr', 'ortho,syntax', 'agrpers,syntax', 'constr,agrstr', 'syntax,constr,conj', 'par,idiom', 'subst,ortho', 'ortho,subst,gov', 'altern,brev', 'syntax,constr,gov', 'ref,num', 'lex,tense', 'lex,infl', 'par,lex,deriv', 'syntax,gov,constr,wo', 'gov,num,constr', 'par,gov,lex,agrnum', 'agrgender,agrpers', 'agrpers,syntax,gov', 'brev,gov,not-clear', 'extra', 'not-clear,syntax,constr,lex', 'syntax,agrnum', 'aux,syntax', 'gov,lex,num', 'constr,transp', 'space,ortho', 'agrnum,not-clear', 'transfer,conj', 'ortho,tense', 'misspell,hyphen', 'coord', 'syntax,lex', 'lex,brev', 'conj,constr,transfer,lex', 'transfer,not-clear', 'deriv,transfer', 'gov,constr,agrcase', 'num,constr', 'lex,gov', 'constr,num', 'constr,lex,transfer', 'constr,wo,lex,transfer', 'ref,insert', 'gov,agrcase,num', 'asp,transfer', 'ortho,subst,transfer', 'prep,gov', 'space,ortho,subst', 'agrcase,ortho', 'agrcase,deriv', 'tense,agrpers', 'ortho,gov,lex', 'ortho,agrnum', 'conj,lex,not-clear', 'idiom,lex', 'idiom,lex,idiom', 'infl,miss', 'transfer,constr', 'lex,asp', 'lex,not-clear,num', 'constr,conj,ref', 'lex,subst,transfer', 'num,gov,not-clear', 'not-clear,constr', 'constr,mode,wo', 'cs', 'wo,transfer,constr', 'constr,not-clear', 'cs,ortho', 'ortho,deriv', 'conj,transfer,constr,lex', 'tense,agrcase', 'lex,space', 'num,agrcase', 'tense,wo', 'aux,asp', 'deriv,extra', 'constr,aux,agrcase,wo,lex,mode', 'asp,lex', 'infl,not-clear', 'ortho,brev', 'constr,morph', 'idiom', 'constr,transfer,lex', 'lex,agrcase', 'constr,wo', 'hyphen,subst', 'lex,wo', 'lex,morph', 'agrcase,hyphen', 'gender,lex', 'agrstr,constr,transfer', 'transfer,gov', 'refl,constr', 'misspell,transp', 'lex,not-clear,transfer', 'syntax,subst', 'constr,idiom', 'gov,subst', 'agrnum,ortho,subst', 'misspell,miss', 'misspell,idiom', 'space,ortho,miss', 'misspell,extra', 'tense,asp', 'wo,transp', 'miss', 'miss,ref', 'transfer,extra', 'ortho,hyphen,miss', 'wo,lex', 'agrnum,tense', 'misspell,ortho', 'lex,tense,constr', 'ref,extra', 'refl,constr,prep,extra', 'prep,subst', 'miss,conj', 'miss,ref,constr', 'lex,disc', 'ref,miss', 'gov,ortho,subst', 'miss,deriv', 'deriv,subst', 'disc,constr', 'agrpers,agrnum', 'constr,disc', 'miss,conj,constr', 'space,miss,misspell', 'ortho,miss,misspell', 'conj,subst', 'idiom,subst', 'extra,prep,transfer,agrstr', 'extra,conj', 'extra,space', 'idiom,constr', 'constr,subst,lex', 'agrstr,prep,extra,transfer', 'miss,aux,tense', 'subst,idiom', 'constr,tense', 'extra,prep', 'miss,prep,constr', 'num,idiom', 'num,lex', 'subst,ref,transfer', 'syntax,gov', 'subst,syntax', 'brev,wo,transp,transfer', 'par,subst,lex', 'lex,disc,ref,subst,not-clear', 'miss,ref,subst,constr', 'prep,subst,constr', 'transfer,neg', 'miss,conj,transfer', 'subst,constr,num', 'extra,ortho,miss,aux,refl,asp', 'gov,punct', 'constr,extra,prep,transfer', 'constr,miss,prep', 'agrnum,constr,refl', 'asp,aux', 'miss,mode,transfer', 'mode,asp,aux', 'deriv,tense,refl', 'impers,constr', 'aux,miss', 'idiom,miss', 'constr,idiom,lex', 'asp,constr', 'transfer,constr,prep', 'miss,space', 'syntax,lex,subst', 'ortho,morph', 'gov,ortho', 'ortho,subst,infl', 'altern,prep', 'par,subst', 'passive,asp', 'extra,prep,constr', 'par,ortho,miss', 'deriv,lex', 'extra,aux,transfer', 'subst,conj,not-clear', 'gov,not-clear', 'miss,constr', 'transfer,constr,disc', 'space,extra', 'miss,ref,syntax', 'ref,subst', 'morph,infl', 'miss,conj,transfer,lex,subst', 'transfer,mode', 'constr,prep', 'constr,tense,mode,ortho', 'gov,impers', 'gov,brev', 'extra,hyphen,space', 'gov,prep,constr,not-clear', 'constr,miss', 'syntax,disc', 'miss,prep', 'extra,aux', 'num,agrnum,transfer', 'idiom,extra,prep', 'constr,miss,ref', 'num,constr,miss,ref', 'transfer,extra,prep', 'constr,miss,refl,conj', 'agrstr,subst,prep', 'extra,conj,constr', 'subst,conj,constr', 'miss,hyphen', 'miss,ref,transfer', 'not-clear,disc,constr', 'disc,miss,conj,constr,transfer,syntax,lex,subst', 'miss,ref,conj,constr', 'prep,subst,ortho,gov', 'tense,transfer,syntax', 'genneg', 'constr,disc,miss', 'impers,constr,lex', 'constr,subst,prep,extra,transfer', 'constr,miss,prep,disc', 'prep,altern', 'constr,impers', 'altern,infl', 'impers,constr,lex,disc', 'extra,transfer', 'lex,subst,prep,constr', 'ref,conj,subst', 'constr,disc,not-clear', 'not-clear,lex,subst', 'gov,miss,prep', 'gov,subst,ref,conj', 'constr,ref,subst', 'idiom,subst,lex', 'constr,subst,extra', 'refl,tense', 'asp,mode,miss', 'miss,ortho', 'extra,hyphen,subst,miss,space', 'transfer,constr,subst,prep,disc', 'miss,disc,ref', 'wo,disc', 'transfer,num', 'wo,transp,disc', 'wo,transp,idiom', 'num,transfer,prep,subst', 'mode,conj,miss', 'syntax,conj', 'wo,translit', 'num,constr,transfer', 'not-clear,miss,neg', 'miss,misspell', 'extra,ortho', 'prep,extra,gov', 'prep,extra,transfer', 'lex,deriv,misspell', 'prep,extra,transfer,constr,miss', 'constr,prep,extra,transfer', 'constr,prep,extra,miss,transfer', 'gender,infl,subst', 'not-clear,extra', 'conj,transfer', 'constr,extra', 'constr,gov,extra', 'gender,num', 'deriv,miss', 'num,ortho,subst', 'ortho,miss,asp', 'ortho,miss,misspell,subst', 'ortho,misspell,miss', 'ortho,space,lex', 'prep,miss', 'constr,not-clear,miss', 'tense,aux,miss', 'prep,extra', 'passive,ortho,subst', 'ortho,misspell,transp', 'infl,extra', 'constr,syntax,extra', 'disc,syntax', 'extra,conj,disc', 'misspell,agrgender', 'syntax,gender', 'transfer,constr,lex', 'tense,transfer,constr,lex,subst', 'transfer,tense,constr', 'ref,subst,lex', 'extra,conj,constr,transfer', 'wo,constr,ref', 'constr,lex,subst,transfer', 'infl,altern', 'extra,ref,disc', 'extra,ref', 'transfer,extra,ref', 'constr,extra,conj', 'subst,ref', 'extra,idiom', 'mode,extra', 'par,lex,subst', 'agrstr,extra,prep', 'lex,disc,subst', 'syntax,num', 'miss,constr,disc', 'constr,not-clear,disc,subst', 'agrnum,constr,syntax', 'extra,prep,agrstr', 'constr,disc,miss,agrnum', 'miss,ref,gov', 'deriv,morph', 'wo,neg', 'miss,prep,agrstr', 'constr,transp,disc', 'space,extra,ortho,subst', 'lex,par,subst', 'subst,prep', 'lex,extra', 'subst,graph', 'num,infl,subst', 'ortho,subst,infl,miss', 'lex,not-clear,gov', 'agrnum,agrcase', 'not-clear,miss', 'ortho,miss,infl,subst', 'ortho,miss,infl,miss', 'miss,agrcase', 'translit,agrcase', 'agrcase,subst', 'lex,extra,gov', 'gov,refl', 'aux,impers', 'brev,miss', 'lex,ortho,extra,idiom', 'idiom,agrnum', 'prep,lex', 'constr,prep,lex', 'miss,neg', 'gov,extra', 'transp,ortho', 'lex,subst,prep', 'transfer,extra,prep,agrstr', 'asp,lex,transfer,subst', 'misspell,altern', 'constr,transfer,neg,wo', 'ref,miss,constr,disc', 'agrstr,transfer', 'lex,extra,disc', 'ref,num,lex', 'not-clear,lex,agrnum', 'lex,ref', 'lex,aux', 'lex,agrstr', 'constr,subst,syntax,ref,transfer', 'num,ref', 'conj,syntax,ref,lex', 'conj,constr,lex,subst', 'agrstr,lex', 'not-clear,lex,ref,constr,subst', 'ref,lex', 'ref,constr,subst', 'lex,constr,subst', 'ref,num,par', 'aux,constr,subst,lex', 'graph,ortho', 'constr,lex,subst', 'ortho,ref,constr,lex', 'syntax,gov,wo,par', 'deriv,infl,subst', 'constr,prep,gov,agrcase', 'transfer,prep', 'miss,syntax', 'miss,num,gov', 'agrstr,gov', 'wo,agrnum,constr', 'wo,agrnum', 'ortho,infl', 'gov,space', 'conj,par', 'lex,par,asp', 'agrgender,wo', 'brev,conj', 'gov,conj', 'asp,infl,miss', 'subst,lex', 'agrcase,morph', 'subst,lex,constr', 'constr,extra,ref,transfer', 'num,genneg,transfer', 'num,subst,ref,transfer', 'agrpers,agrnum,syntax', 'constr,subst,conj', 'hyphen,transfer,constr', 'subst,idiom,not-clear', 'space,miss', 'ortho,subst,agrcase', 'space,ortho,subst,agrcase', 'conj,gov', 'lex,prep,gender', 'neg,transfer', 'transfer,idiom', 'num,wo', 'transfer,subst', 'space,misspell', 'space,translit', 'miss,tense', 'ref,gov', 'syntax,constr,transfer', 'lex,prep,transfer', 'lex,miss,transfer', 'lex,num,transfer', 'conj,syntax,transfer', 'constr,transfer,prep,extra', 'lex,extra,transfer', 'syntax,not-clear', 'ref,syntax', 'idiom,ortho,gov', 'gender,miss', 'altern,deriv', 'gov,miss,syntax', 'constr,gov,wo,syntax', 'agrstr,syntax,miss', 'lex,passive', 'hyphen,space,infl', 'impers,idiom', 'prep,hyphen,altern,infl', 'lex,par,idiom', 'aux,extra', 'refl,impers', 'ortho,impers', 'ref,agrcase', 'genneg,gov', 'gov,miss,prep,wo', 'miss,prep,gov', 'impers,miss', 'asp,tense,constr', 'lex,constr,idiom', 'syntax,miss', 'brev,constr', 'transp,wo', 'num,lex,constr', 'hyphen,transp,ortho', 'tense,constr', 'not-clear,asp', 'not-clear,conj', 'lex,translit', 'ortho,miss,lex,transfer', 'lex,gov,constr,cs', 'deriv,gender', 'constr,lex,ref', 'agrcase,ref', 'constr,num,lex,wo', 'gov,agrnum', 'wo,ortho,constr,not-clear', 'constr,not-clear,lex', 'gender,lex,ortho,extra', 'ortho,constr,translit,lex', 'ortho,refl,constr,lex', 'brev,syntax', 'syntax,brev', 'constr,wo,agrcase', 'ref,constr', 'lex,constr,not-clear', 'constr,gov,lex', 'syntax,constr,lex', 'agrcase,translit', 'lex,wo,constr,not-clear', 'translit,ortho', 'constr,ref,lex', 'constr,refl,lex', 'ref,tense,constr,ortho', 'space,hyphen', 'hyphen,space', 'ortho,hyphen,space', 'constr,lex,not-clear', 'ortho,space,hyphen', 'not-clear,lex,ref', 'ref,wo', 'ref,not-clear', 'gender,ortho,subst', 'ref,gender', 'ref,wo,tense', 'lex,cs', 'ortho,cs', 'hyphen,ortho', 'tense,aux', 'lex,infl,subst', 'idiom,asp', 'lex,not-clear,asp', 'lex,constr,agrgender', 'deriv,ortho,subst', 'gov,morph', 'asp,ref', 'ortho,infl,subst', 'wo,constr,lex', 'tense,not-clear', 'conj,constr', 'constr,agrcase', 'aux,tense', 'refl,lex', 'translit,constr', 'tense,lex', 'num,ref,miss', 'not-clear,ref,lex', 'agrcase,not-clear', 'num,ortho,miss', 'lex,constr,asp', 'transp,constr,wo', 'agrnum,num', 'constr,ref', 'asp,agrnum', 'constr,conj,asp', 'num,constr,ref', 'lex,constr,ref', 'lex,constr,agrcase', 'aux,constr,agrpers', 'wo,ref,lex,constr', 'constr,neg', 'lex,tense,not-clear,aux', 'wo,brev,lex', 'ref,agrcase,agrgender', 'ortho,translit', 'deriv,not-clear', 'tense,asp,lex', 'lex,refl,tense', 'asp,not-clear', 'agrcase,infl,subst', 'ortho,transp,lex', 'lex,constr,ortho', 'translit,cs', 'not-clear,gov', 'not-clear,cs', 'lex,ref,not-clear', 'space,not-clear', 'not-clear,ref', 'space,constr', 'num,infl,extra', 'deriv,num', 'agrcase,brev', 'lex,not-clear,tense', 'space,brev', 'wo,ref', 'not-clear,agrcase', 'deriv,infl', 'agrcase,wo,constr', 'wo,lex,conj', 'lex,wo,gov', 'infl,gov', 'prep,par', 'brev,agrnum', 'asp,lex,not-clear', 'miss,disc', 'tense,disc', 'lex,subst,num,constr', 'ortho,space,par', 'impers,gov', 'lex,extra,constr', 'miss,ref,conj', 'num,agrnum', 'wo,num', 'agrstr,syntax', 'lex,subst,impers,gov,constr', 'impers,miss,ref', 'conj,miss,ref,constr', 'lex,constr,miss', 'wo,constr,miss', 'prep,extra,gov,ref', 'deriv,lex,transfer', 'conj,lex,miss', 'lex,subst,gov', 'gov,prep,miss', 'lex,extra,miss,not-clear', 'miss,lex', 'lex,miss,conj', 'prep,subst,gov', 'altern,agrnum,lex', 'miss,morph,syntax', 'gov,prep,extra', 'gender,ref,agrgender', 'ref,gender,agrgender', 'miss,conj,syntax', 'lex,conj,subst,transfer', 'conj,extra,syntax', 'asp,lex,refl', 'gov,idiom', 'gov,agrstr,miss,ref', 'lex,miss,refl,ref', 'conj,miss,syntax', 'lex,constr,extra,agrstr', 'impers,miss,ref,syntax', 'lex,extra,ref', 'aux,tense,syntax', 'lex,par,tense', 'constr,miss,conj', 'gov,extra,prep', 'refl,impers,syntax', 'impers,neg,syntax', 'disc,lex', 'disc,wo', 'ortho,refl', 'lex,constr,conj', 'extra,constr', 'disc,miss', 'disc', 'prep,constr', 'constr,lex,gov', 'constr,hyphen,transfer,lex', 'par,lex', 'constr,lex,idiom', 'disc,constr,wo', 'disc,extra', 'extra,agrnum', 'space,transfer', 'ortho,subst,graph', 'gov,ortho,miss', 'deriv,altern', 'lex,hyphen', 'neg,miss', 'prep,miss,gov', 'ortho,syntax,syntax', 'prep,miss,lex', 'graph,ortho,subst', 'aux,miss,brev', 'prep,ortho,miss', 'ortho,miss,lex', 'syntax,ortho,miss', 'ortho,subst,syntax', 'ortho,miss,syntax', 'hyphen,wo', 'lex,prep,extra,agrstr,constr', 'transfer,ortho', 'lex,impers,transfer', 'syntax,asp', 'refl,prep,miss', 'ref,miss,syntax', 'idiom,constr,miss', 'transfer,idiom,lex', 'ref,constr,disc', 'agrnum,transfer', 'not-clear,lex,par', 'lex,tense,asp', 'impers,agrgender,agrnum', 'prep,extra,syntax', 'ortho,subst,infl,subst', 'ortho,subst,miss,infl,subst', 'ortho,subst,neg', 'tense,brev', 'brev,lex', 'lex,conj,subst', 'morph,par', 'conj,ref,subst', 'miss,prep,morph', 'neg,miss,tense,transfer', 'agrgender,hyphen', 'mode,neg,transfer,lex', 'mode,miss,num', 'lex,gov,par', 'conj,subst,syntax', 'gov,wo,transp', 'ortho,extra,par', 'extra,ortho,par', 'mode,conj,tense', 'constr,miss,transfer', 'impers,refl,lex,subst,transfer', 'transfer,gov,extra,prep', 'extra,ref,lex', 'lex,constr,impers', 'disc,constr,lex', 'lex,constr,disc', 'passive,refl', 'lex,disc,not-clear', 'mode,constr,disc', 'lex,par,idiom,miss', 'constr,aux,miss', 'gender,constr', 'coord,gov', 'gov,infl,subst', 'agrnum,agrcase,transfer', 'lex,par,impers', 'gov,constr,conj', 'constr,lex,miss,agrstr', 'prep,agrstr,gov', 'neg,constr,syntax,miss', 'impers,refl', 'ref,conj', 'conj,constr,miss', 'idiom,par,lex', 'idiom,lex,extra,ortho,space', 'asp,ortho', 'lex,disc,not-clear,extra', 'extra,syntax', 'lex,constr,extra', 'lex,miss,prep', 'altern,infl,morph', 'miss,conj,constr,lex', 'brev,miss,conj', 'miss,syntax,gov', 'miss,lex,disc', 'brev,constr,lex', 'constr,lex,extra', 'miss,prep,constr,transfer', 'num,infl,morph', 'conj,constr,miss,ref', 'extra,lex,constr,idiom', 'aux,syntax,miss', 'constr,gov,altern', 'agrnum,agrcase,gov', 'lex,ref,disc', 'prep,agrstr', 'conj,constr,syntax', 'conj,constr,gov', 'prep,miss,ref', 'agrstr,gov,miss,prep', 'lex,mode,refl', 'brev,agrgender,agrnum', 'gov,agrstr,prep', 'impers,refl,agrnum', 'gov,agrstr,constr', 'gov,agrcase,agrnum', 'syntax,impers', 'lex,miss,disc', 'gov,agrstr,constr,prep,miss', 'aux,gov,agrgender', 'agrstr,gov,prep', 'syntax,transfer,conj,constr,mode', 'syntax,miss,ref', 'num,disc,agrnum', 'wo,agrstr,syntax', 'agrgender,constr,syntax', 'impers,agrnum', 'gov,agrcase,agrgender', 'prep,extra,gov,agrstr', 'prep,miss,lex,constr', 'agrstr,miss,prep', 'conj,miss,constr', 'deriv,lex,ortho', 'agrstr,miss', 'ortho,conj,prep', 'miss,ref,lex', 'lex,syntax,constr', 'morph,constr', 'constr,constr,ortho', 'ortho,miss,infl', 'tense,mode', 'extra,lex', 'num,conj', 'wo,mode', 'prep,agrstr,constr', 'lex,par,transp', 'gov,agrstr', 'transfer,aux', 'lex,constr,transfer', 'lex,aux,transfer', 'lex,idiom,transfer', 'idiom,constr,transfer', 'prep,constr,transfer', 'misspell,morph', 'gov,lex,not-clear', 'constr,disc,conj,prep,extra', 'conj,lex,transfer,constr', 'graph,subst', 'par,agrcase', 'ortho,wo', 'prep,gov,constr', 'syntax,tense', 'agrgender,ref', 'altern,ortho', 'infl,brev', 'ref,idiom', 'idiom,ref', 'wo,miss', 'constr,lex,miss', 'extra,lex,prep', 'infl,misspell', 'impers,constr,miss', 'transfer,constr,syntax', 'constr,syntax,lex', 'wo,extra', 'extra,passive', 'conj,miss,gov', 'idiom,ortho', 'infl,space,ortho', 'refl,transfer', 'space,ortho,infl', 'space,extra,ortho', 'par,miss', 'constr,aux', 'subst,infl', 'subst,lex,transfer', 'subst,conj', 'transp,constr', 'num,subst', 'not-clear,wo', 'agrcase,agrgender', 'neg,constr', 'gov,agrcase,infl', 'agrstr,prep,disc', 'conj,lex,transfer', 'miss,ref,constr,idiom', 'agrstr,constr', 'agrstr,constr,disc', 'lex,miss,ref', 'agrstr,prep', 'miss,agrstr,lex,not-clear', 'prep,num', 'ref,miss,constr', 'ref,extra,constr', 'agrgender,asp', 'lex,deriv,transfer', 'ortho,space,translit,infl', 'lex,disc,transfer', 'deriv,infl,num', 'lex,idiom,prep', 'lex,num,miss', 'mode,asp', 'impers,lex,miss', 'constr,transfer,extra', 'refl,passive', 'agrstr,miss,not-clear', 'miss,not-clear', 'lex,not-clear,disc', 'syntax,constr,miss,not-clear', 'ortho,graph', 'extra,ref,constr', 'altern,deriv,transp', 'num,extra,lex', 'deriv,lex,not-clear', 'deriv,constr', 'lex,constr,wo', 'ortho,conj', 'ref,conj,syntax', 'infl,translit', 'extra,ref,transfer', 'agrnum,ortho', 'morph,ortho', 'gov,coord', 'syntax,extra', 'transfer,constr,gov', 'extra,lex,constr', 'constr,prep,agrnum', 'constr,ref,miss', 'constr,brev', 'neg,space', 'ortho,subst,constr,miss', 'constr,miss,not-clear', 'constr,idiom,miss', 'asp,constr,miss', 'asp,transp', 'prep,gov,lex', 'lex,prep,miss', 'constr,morph,agrgender', 'morph,lex', 'refl,miss', 'constr,mode', 'constr,extra,transfer', 'punct,miss', 'gender,agrcase', 'num,prep,miss', 'num,gov', 'add', 'ref,refl,agrcase', 'asp,agrcase', 'conj,ref', 'conj,agrcase', 'refl,agrcase,conj', 'transp,aux', 'ortho,aux', 'not-clear,constr,ortho', 'constr,ortho', 'lex,agrnum', 'idiom,punct', 'punct,altern', 'par,punct', 'constr,agrnum', 'syntax,constr,miss', 'disc,lex,miss', 'disc,lex,subst', 'syntax,gov,prep,subst', 'disc,lex,extra', 'syntax,agrpers', 'morph,miss', 'syntax,wo', 'syntax,gov,prep', 'syntax,gov,miss', 'morph,infl,miss', 'morph,deriv', 'syntax,gov,prep,miss', 'morph,infl,subst', 'syntax,agrcase', 'disc,constr,lex,extra', 'syntax,constr,prep,extra', 'syntax,gov,prep,extra', 'syntax,constr,lex,miss', 'syntax,agrgender', 'syntax,constr,lex,extra', 'syntax,constr,prep,subst', 'morph,deriv,miss', 'disc,lex,ref,extra', 'syntax,aux,miss', 'disc,constr,lex,miss', 'syntax,constr,subst', 'morph,altern,extra', 'syntax,constr,impers', 'syntax,constr,prep,miss', 'syntax,constr,ref,miss', 'syntax,constr,extra', 'ortho,space,miss', 'syntax,gov,genneg', 'lex,refl,miss', 'disc,lex,ref', 'morph,altern,miss', 'morph,altern', 'disc,constr,miss', 'ortho,extra,infl', 'disc,constr,transfer', 'syntax,constr,prep', 'morph,altern,infl', 'lex,subst,par', 'disc,lex,ref,miss', 'syntax,ref,miss', 'prep,agrcase', 'constr,wo,extra', 'agrnum,agrpers,asp', 'agrnum,agrgender,agrpers', 'transfer,lex,agrstr', 'wo,neg,constr', 'transfer,lex,conj', 'extra,agrgender', 'agrcase,constr,extra', 'wo,miss,prep,disc', 'space,agrnum,agrcase', 'lex,refl,extra', 'morph,gender', 'ortho,space,extra', 'syntax,gov,prep,extra,transfer', 'syntax,mode,passive', 'morph,num', 'disc,lex,transfer', 'syntax,constr,wo', 'syntax,constr,prep,subst,transfer', 'ortho,subst,translit', 'syntax,constr,conj,subst', 'syntax,constr,lex,subst', 'ortho,miss,translit', 'morph,deriv,extra', 'morph,deriv,infl', 'constr,prep,miss', 'aux,subst,asp', 'asp,constr,aux', 'constr,extra,miss,prep', 'miss,aux', 'syntax,constr,prep,extra,transfer', 'syntax,constr,neg', 'syntax,constr,miss,transfer', 'syntax,constr,com', 'disc,lex,subst,transfer', 'disc,constr,num', 'disc,constr,extra', 'disc,constr,conj,miss', 'nom', 'hyphen,agrcase', 'brev,space', 'wo,transp,extra,transfer', 'extra,constr,agrcase', 'gov,miss', 'transfer,gov,miss', 'deriv,ortho', 'miss,constr,wo', 'lex,punct', 'constr,passive', 'ortho,agrcase,agrnum', 'agrcase,agrgender,ortho', 'lex,agrgender', 'lex,par,constr', 'prep,miss,transfer', 'extra,lex,disc', 'miss,infl', 'miss,lex,gov', 'par,transfer', 'agrgender,brev', 'lex,disc,impers,wo', 'syntax,constr,neg,miss', 'disc,tense', 'syntax,brev,extra', 'syntax,aux,extra', 'agrgender,morph', 'prep,gov,agrnum', 'brev,agrgender', 'space,agrgender', 'constr,transfer,punct', 'constr,transfer,conj,punct', 'neg,extra', 'hyphen,miss', 'brev,space,extra', 'tense,transfer', 'miss,lex,transfer', 'prep,wo', 'space,conj', 'agrgender,gov,ref,syntax,prep', 'gov,prep,ref,syntax', 'ref,extra,prep,extra', 'deriv,ortho,lex', 'num,miss', 'morph,asp', 'aux,subst', 'conj,miss,lex', 'impers,transfer', 'conj,extra,prep', 'refl,altern', 'punct,ortho', 'agrcase,prep,miss', 'prep,transfer,extra', 'aux,ref,prep,miss,transfer', 'agrgender,deriv', 'miss,prep,agrcase', 'morph,transfer', 'constr,constr', 'ortho,miss,transfer', 'refl,asp,transfer', 'aux,extra,transfer', 'ortho,miss,subst', 'gender,transfer', 'miss,agrstr', 'num,infl', 'agrcase,transfer', 'agrgender,transfer', 'hyphen,lex,transfer', 'com,miss', 'syntax,agrstr', 'lex,par,transfer', 'ortho,miss,par', 'agrgender,syntax', 'gov,prep,miss,transfer', 'asp,ortho,miss', 'miss,morph', 'extra,neg', 'deriv,par', 'lex,gov,prep', 'com,lex', 'miss,constr,com', 'extra,disc', 'prep,idiom', 'lex,constr,prep', 'prep,gender,constr', 'agrnum,gov', 'asp,disc,constr', 'agrnum,miss', 'agrgender,lex', 'asp,ortho,extra', 'miss,num', 'gov,prep,transfer', 'deriv,misspell', 'gov,constr,transfer', 'gender,constr,disc', 'ref,prep,miss', 'gov,wo', 'prep,infl,constr', 'space,neg,lex', 'agrgender,gov', 'agrgender,num', 'morph,agrnum', 'neg,ortho', 'hyphen,lex', 'par,agrgender', 'par,constr', 'syntax,ref', 'gov,ref,prep', 'infl,lex', 'constr,gov,prep,transfer', 'prep,idiom,transfer', 'lex,deriv,num', 'ref,disc', 'ortho,ref', 'not-clear,gov,lex', 'ref,ortho', 'lex,asp,tense', 'tense,agrcase,asp', 'ortho,asp,lex', 'ortho,ref,gov', 'deriv,asp', 'extra,agrstr,constr', 'gov,lex,agrcase', 'ortho,morph,refl', 'refl,deriv,morph,tense', 'refl,lex,asp', 'extra,not-clear', 'gov,agrcase,prep', 'tense,refl', 'miss,tense,constr,agrstr', 'idiom,not-clear', 'wo,not-clear', 'agrgender,ortho', 'miss,constr,agrstr', 'asp,agrgender', 'tense,agrpers,agrgender', 'agrnum,agrgender,tense', 'refl,ortho', 'gender,ortho', 'tense,agrgender,agrpers', 'miss,prep,agrstr,constr', 'lex,com', 'refl,extra', 'infl,transfer', 'lex,transfer,tense', 'neg,miss,tense', 'punct,extra', 'conj,constr,transfer', 'transfer,aux,extra', 'constr,disc,transfer', 'agrgender,gov,transfer,lex', 'ortho,agrnum,space', 'neg,miss,transfer,punct', 'ref,transfer,extra', 'space,punct', 'lex,subst,mode', 'transfer,ref,extra', 'transfer,conj,mode,lex', 'agrcase,punct', 'wo,agrgender,neg', 'constr,prep,num', 'agrcase,ortho,miss', 'disc,punct,miss', 'lex,punct,miss', 'neg,wo', 'lex,ref,subst', 'agrnum,brev', 'prep,transfer,subst', 'transfer,lex,extra', 'wo,punct', 'extra,refl,ref,miss', 'asp,punct', 'disc,constr,ref', 'agrnum,lex', 'ref,hyphen', 'transfer,disc', 'space,refl', 'prep,not-clear', 'extra,morph', 'prep,extra,conj,miss', 'constr,gov,prep', 'syntax,constr,transfer,wo', 'agrcase,miss', 'subst,miss', 'subst,tense', 'wo,gov', 'hyphen,ref', 'agrnum,agrgender', 'syntax,constr,impers,miss', 'lex,mode,disc', 'ortho,altern,deriv', 'gov,constr,ref', 'ortho,gender,not-clear', 'infl,constr', 'ortho,infl,constr', 'agrstr,gov,prep,constr', 'lex,transfer,not-clear', 'infl,gov,constr', 'gov,prep,constr,agrstr', 'disc,ref,miss', 'constr,transfer,ref', 'constr,ref,transfer', 'constr,neg,miss', 'gov,ortho,misspell', 'ortho,constr,disc', 'wo,misspell', 'lex,asp,refl', 'disc,ref,extra', 'agrcase,ortho,subst', 'agrcase,extra', 'deriv,agrgender', 'wo,lex,not-clear', 'lex,disc,prep', 'constr,aux,miss,syntax', 'misspell,lex', 'idiom,lex,miss', 'constr,lex,disc', 'constr,disc,idiom,ortho', 'misspell,not-clear', 'constr,disc,extra', 'agrstr,constr,prep', 'constr,disc,wo', 'disc,idiom', 'agrstr,prep,miss', 'lex,idiom,asp', 'lex,disc,extra', 'gender,cs', 'refl,deriv,lex', 'constr,ref,miss,conj,miss,lex', 'lex,constr,prep,miss', 'constr,prep,ortho,miss', 'lex,ortho,transp', 'refl,not-clear', 'misspell,asp', 'lex,misspell', 'lex,extra,not-clear', 'agrgender,ref,lex', 'brev,gov', 'ortho,extra,lex', 'prep,lex,ortho,subst', 'ortho,subst,lex', 'wo,prep,miss', 'prep,lex,constr', 'prep,hyphen,miss', 'refl,constr,ref,miss', 'constr,conj,extra', 'wo,prep,extra', 'infl,num', 'brev,aux,miss,gov', 'ref,lex,gov', 'lex,asp,agrstr', 'agrstr,lex,not-clear', 'agrstr,not-clear', 'wo,conj', 'space,conj,lex', 'agrstr,ref,miss', 'miss,idiom', 'miss,disc,lex', 'num,gender', 'hyphen,gov', 'wo,infl', 'ortho,subst,not-clear', 'prep,miss,constr', 'constr,space,prep', 'extra,com', 'mode,agrgender', 'gov,constr,agrnum', 'miss,agrnum', 'agrgender,prep,miss', 'miss,gov', 'ortho,neg', 'mode,lex', 'hyphen,syntax', 'miss,asp', 'ref,wo,infl', 'wo,asp,neg', 'ortho,infl,num', 'gov,infl,ortho', 'gender,ref', 'ortho,morph,deriv', 'wo,agrstr,lex', 'neg,tense,agrpers', 'ortho,gov,infl', 'not-clear,lex,miss', 'lex,miss,not-clear', 'wo,agrcase', 'ortho,extra,agrnum,syntax', 'neg,morph', 'morph,infl,altern', 'disc,lex,constr', 'punct,subst', 'ref,extra,impers', 'transp,ortho,lex', 'not-clear,deriv', 'gov,space,prep', 'agrpers,refl', 'ortho,num,ref', 'agrpers,ortho,not-clear', 'impers,syntax', 'deriv,ortho,morph,infl,gov', 'constr,agrstr,gov,ref', 'gov,gender,ref', 'deriv,ortho,morph', 'ref,miss,lex', 'gov,ref', 'constr,conj,miss', 'lex,miss,aux', 'aux,ref,lex,miss', 'aux,gov,agrcase', 'lex,miss,ref,constr', 'lex,ref,miss', 'gov,lex,par', 'prep,lex,gov', 'ortho,infl,deriv', 'lex,agrgender,aux', 'agrpers,ref,asp', 'agrstr,constr,conj,miss,impers', 'constr,agrstr,conj,miss', 'agrpers,agrgender', 'agrstr,lex,agrcase', 'ortho,space,extra,agrcase', 'ref,ortho,lex', 'lex,constr,agrstr', 'aux,lex', 'wo,constr,transfer', 'ortho,lex,par', 'ortho,deriv,agrnum', 'gov,agrpers', 'ortho,misspell,agrpers', 'disc,lex,agrnum', 'disc,wo,lex', 'lex,transfer,punct', 'gender,impers', 'constr,miss,gov', 'morph,deriv,transfer', 'ortho,subst,punct', 'punct,transfer', 'syntax,conj,miss', 'ortho,punct', 'not-clear,misspell', 'agrnum,agrpers,tense', 'constr,transfer,not-clear', 'ortho,subst,asp', 'agrgender,refl', 'agrnum,agrpers', 'subst,agrcase', 'extra,agrcase', 'agrgender,agrcase,miss', 'wo,deriv', 'ortho,subst,punct,miss', 'agrpers,agrnum,extra', 'gov,miss,lex,agrcase,agrpers,agrnum', 'agrnum,agrpers,extra', 'extra,infl', 'gov,ortho,infl', 'conj,ortho', 'lex,constr,refl', 'aux,constr', 'ortho,not-clear,space,miss', 'ortho,gov,deriv', 'conj,miss,agrstr,constr', 'ortho,lex,brev', 'ortho,punct,miss', 'deriv,punct,miss', 'syntax,aux,infl,deriv,asp,transp', 'impers,ortho', 'prep,ortho,space,extra', 'gov,num,ref,miss', 'constr,gov,transp', 'tense,ortho', 'tense,ortho,agrnum', 'lex,agrpers', 'tense,agrnum,agrpers', 'ortho,miss,agrnum,agrgender,agrcase', 'agrnum,agrgender,agrcase', 'asp,impers', 'lex,transfer,subst', 'lex,agrnum,subst', 'prep,ref,miss', 'agrcase,miss,prep', 'constr,prep,ref,miss', 'misspell,punct', 'morph,subst', 'miss,prep,lex', 'tense,miss', 'transfer,refl', 'transfer,punct', 'conj,punct', 'ortho,num,punct', 'lex,prep,extra', 'infl,agrpers', 'agrpers,ortho', 'punct,conj,miss', 'impers,ref,conj,miss', 'ref,agrpers', 'num,agrnum,par', 'ortho,infl,gov', 'asp,agrpers,ortho', 'aux,punct', 'constr,extra,lex', 'constr,neg,agrpers,tense', 'agrstr,agrcase', 'lex,miss,constr', 'ortho,agrcase,infl', 'conj,lex,agrstr', 'hyphen,miss,ortho', 'conj,agrstr', 'agrpers,tense', 'ortho,space,extra,neg', 'lex,aux,ortho', 'miss,syntax,prep', 'impers,agrgender', 'constr,transfer,impers', 'extra,punct', 'infl,misspell,punct,ortho,transfer', 'infl,punct', 'morph,gov,transfer', 'infl,num,transfer', 'extra,subst', 'morph,prep,extra', 'miss,subst', 'miss,translit', 'wo,lex,subst,deriv,constr', 'syntax,subst,conj', 'prep,conj,miss', 'agrpers,tense,constr', 'asp,agrpers', 'prep,ortho', 'constr,conj,agrcase,prep,miss', 'transfer,ref', 'lex,conj,transfer', 'ortho,subst,miss', 'miss,prep,hyphen', 'miss,constr,asp', 'transfer,ortho,subst', 'neg,space,miss,ortho', 'ortho,space,miss,neg', 'agrgender,idiom', 'conj,extra,constr', 'ortho,space,extra,prep', 'space,extra,infl', 'ref,miss,not-clear', 'wo,brev,agrnum', 'prep,misspell', 'graph,cs', 'asp,refl', 'extra,prep,ref', 'gender,tense', 'not-clear,agrpers', 'lex,syntax,wo,constr,agrstr', 'ortho,miss,hyphen', 'lex,idiom,not-clear', 'lex,agrstr,constr,prep,miss', 'extra,space,ortho', 'ref,gov,lex', 'brev,agrstr', 'agrstr,agrgender', 'gov,lex,prep', 'tense,agrgender', 'wo,idiom', 'agrstr,lex,constr', 'lex,idiom,agrcase', 'agrstr,constr,lex,miss', 'lex,miss,agrcase', 'disc,lex,wo,constr', 'tense,lex,gov', 'miss,agrstr,constr', 'agrcase,agrstr', 'ref,lex,extra', 'lex,ortho,prep,miss', 'mode,miss', 'agrpers,agrstr', 'constr,lex,agrstr,agrpers,miss', 'agrcase,agrstr,agrnum', 'agrstr,agrpers,tense', 'agrnum,ref', 'gender,agrgender', 'space,miss,ortho', 'ortho,infl,agrcase', 'gov,lex,ortho', 'prep,space,extra', 'agrstr,agrnum', 'agrgender,refl,ortho', 'num,ortho,gov', 'agrstr,agrcase,ref,agrgender', 'conj,ortho,space,extra', 'conj,space,extra,ortho', 'conj,extra,space,ortho', 'ortho,space,extra,ref,lex', 'idiom,transfer,lex', 'lex,par,not-clear', 'lex,gender,ref', 'gov,agrcase,syntax', 'gender,agrstr', 'wo,lex,constr', 'lex,agrcase,agrpers,agrstr,constr', 'transfer,translit,lex', 'miss,lex,constr', 'refl,miss,lex', 'agrnum,agrstr', 'agrnum,agrstr,lex,miss', 'lex,not-clear,extra', 'ortho,lex,not-clear', 'lex,miss,transp', 'lex,miss,extra', 'idiom,gov', 'morph,agrgender', 'extra,translit', 'agrcase,conj', 'conj,constr,not-clear', 'not-clear,subst,lex', 'idiom,lex,not-clear', 'agrgender,par', 'prep,miss,agrcase', 'conj,subst,neg', 'disc,not-clear', 'constr,agrstr,agrpers', 'constr,lex,conj', 'space,extra,brev', 'gov,not-clear,not-clear', 'constr,lex,miss,agrcase', 'idiom,prep', 'impers,lex,par', 'ortho,gov,prep', 'disc,lex,disc', 'agrnum,lex,constr', 'lex,constr,morph', 'gov,prep,not-clear', 'passive,impers', 'translit,transfer', 'idiom,not-clear,transfer', 'deriv,agrgender,constr', 'wo,transp,lex,agrnum', 'cs,not-clear', 'conj,syntax,wo', 'ortho,ref,miss', 'lex,gov,ref', 'ortho,deriv,agrpers', 'wo,constr,gov,lex', 'aux,mode,brev', 'space,lex,ortho,miss', 'wo,hyphen,miss', 'not-clear,ortho,tense,mode', 'ortho,not-clear,agrcase', 'hyphen,ortho,agrcase', 'miss,punct', 'ortho,tense,ref', 'ref,agrcase,miss', 'lex,impers', 'wo,ortho,ref', 'gender,agrnum', 'brev,syntax,gov', 'wo,syntax,tense', 'miss,ref,wo', 'gender,infl', 'wo,lex,syntax', 'gender,gov', 'mode,syntax', 'gov,neg', 'syntax,mode,constr,wo', 'constr,asp,gov', 'transfer,prep,constr,syntax', 'infl,asp', 'miss,mode', 'tense,constr,mode', 'transfer,lex,not-clear', 'asp,miss', 'infl,agrcase', 'transfer,lex,asp', 'ortho,asp', 'not-clear,transfer', 'syntax,miss,punct', 'wo,syntax,miss,punct', 'prep,gov,miss', 'impers,lex', 'constr,lex,agrstr', 'lex,ortho,par', 'agrcase,lex,miss', 'lex,agrstr,miss,aux', 'ortho,deriv,morph', 'brev,lex,agrpers', 'neg,tense', 'ortho,lex,ref', 'agrgender,mode', 'agrpers,mode', 'agrpers,asp', 'ortho,gov,agrcase', 'ortho,lex,asp', 'not-clear,lex,ortho', 'constr,not-clear,agrstr,agrgender', 'lex,constr,agrstr,conj', 'tense,ortho,agrpers,agrstr', 'brev,agrgender,ortho,neg', 'agrpers,agrnum,agrstr', 'asp,agrstr,agrpers', 'constr,agrcase,lex', 'lex,agrstr,constr', 'wo,tense', 'refl,ortho,asp', 'tense,neg', 'lex,constr,agrpers,agrcase', 'constr,agrstr,lex', 'constr,ortho,gender', 'ref,miss,constr,agrstr', 'lex,gov,constr,agrstr', 'lex,miss,constr,agrstr', 'wo,constr,lex,agrstr', 'brev,ortho', 'neg,space,extra,ortho', 'constr,ref,gov,agrpers,impers', 'gov,num,agrnum,agrcase', 'refl,ref,extra', 'prep,miss,gov,num', 'space,gov', 'impers,punct,extra', 'ortho,miss,punct,miss', 'ref,extra,transfer', 'agrpers,agrgender,lex', 'ref,ortho,gov', 'conj,miss,gender,ref,gov', 'ref,agrcase,ortho', 'ortho,hyphen,miss,gov', 'ortho,agrnum,agrgender', 'gov,ref,lex,miss', 'ortho,space,miss,lex', 'agrpers,ortho,agrstr', 'ref,lex,ortho', 'wo,asp', 'lex,extra,conj,miss', 'neg,space,extra', 'constr,ortho,lex', 'gov,hyphen,miss,ortho', 'constr,lex,gov,agrstr', 'wo,constr,lex,miss', 'ortho,extra,space', 'agrpers,neg', 'ortho,space,extra,lex', 'ortho,gov,ref', 'asp,deriv,ortho', 'conj,extra,agrstr', 'refl,agrpers,agrstr', 'prep,miss,agrstr,gov', 'asp,lex,ortho', 'gov,agrstr,agrcase', 'ortho,gov,gender', 'lex,par,agrcase', 'gov,ortho,agrcase', 'wo,lex,constr,agrstr', 'gov,agrcase,lex,not-clear', 'agrnum,num,gov,agrcase', 'ref,extra,conj,miss', 'agrnum,num,ortho', 'constr,agrstr,ref', 'gov,gender,agrgender', 'num,gov,lex', 'lex,miss,agrstr', 'conj,miss,gov,constr', 'brev,constr,agrgender', 'lex,ref,gov', 'ortho,space,miss,gov', 'lex,miss,gov,agrstr', 'agrstr,lex,miss', 'gov,agrcase,agrstr', 'lex,ortho,gov', 'ref,lex,agrcase', 'hyphen,extra', 'lex,miss,ref,constr,agrstr', 'ortho,par,lex', 'deriv,ortho,neg', 'ref,ortho,agrcase', 'disc,wo,disc,constr', 'disc,wo,disc,lex', 'syntax,constr,conj,extra', 'lex,tense,agrstr', 'lex,miss,wo', 'lex,neg', 'not-clear,lex,constr', 'ortho,space,extra,lex,agrstr,agrcase', 'lex,not-clear,ortho', 'lex,ortho,deriv', 'ortho,agrpers,tense', 'tense,agrstr', 'wo,constr,agrstr,lex', 'constr,agrstr,lex,miss', 'ortho,lex,gov', 'constr,prep,agrcase', 'neg,agrcase', 'refl,tense,asp,prep,miss', 'subst,agrpers', 'tense,syntax', 'ref,agrgender,extra', 'ortho,miss,conj', 'subst,gov,ortho', 'syntax,lex,gov', 'punct,impers', 'miss,lex,ortho,extra', 'transfer,translit', 'lex,not-clear,constr', 'extra,mode', 'ref,miss,prep', 'misspell,gov', 'ortho,prep,syntax', 'miss,tense,syntax', 'hyphen,miss,syntax', 'wo,extra,transfer', 'constr,punct', 'wo,miss,syntax', 'miss,syntax,punct', 'punct,syntax', 'translit,ortho,gov', 'com,constr', 'constr,prep,gov', 'punct,lex,extra', 'punct,gov', 'punct,agrcase', 'miss,constr,transfer', 'gov,extra,transfer', 'ortho,miss,lex,constr,not-clear,transfer', 'lex,conj,constr', 'miss,ref,punct,transfer', 'gov,agrnum,punct', 'ortho,miss,aux,tense', 'agrgender,lex,transfer', 'gov,miss,prep,transfer', 'asp,lex,transfer', 'constr,gender,punct,transfer', 'punct,lex,transfer', 'tense,lex,ref,extra', 'miss,lex,not-clear', 'deriv,syntax', 'ref,refl', 'passive,agrgender,agrnum,constr', 'punct,gov,ortho', 'miss,com', 'ortho,gov,punct', 'ortho,gov,transfer', 'ortho,misspell,punct', 'wo,miss,ref', 'punct,miss,lex', 'conj,mode', 'extra,ortho,not-clear', 'agrpers,lex', 'tense,agrpers,refl', 'constr,punct,gov', 'punct,asp', 'miss,infl,agrnum', 'asp,deriv', 'extra,punct,agrpers,tense', 'miss,agrcase,punct', 'miss,altern', 'constr,miss,space', 'gov,hyphen', 'hyphen,gov,miss', 'infl,subst,ortho', 'gov,altern,morph', 'lex,gov,ortho', 'refl,miss,ortho,subst,num', 'refl,miss,ortho', 'tense,syntax,constr', 'ortho,subst,agrgender,impers,constr', 'agrgender,ortho,infl', 'subst,morph', 'extra,prep,transfer', 'miss,gov,prep', 'ortho,agrnum,subst', 'constr,extra,gov', 'gender,ortho,miss', 'morph,syntax', 'ortho,subst,refl,miss', 'miss,ortho,gov', 'ortho,gov,subst', 'infl,ortho,subst', 'extra,subst,misspell,ortho', 'ortho,gov,subst,infl', 'gender,gov,miss', 'extra,gov', 'lex,ortho,miss', 'ortho,subst,agrnum', 'lex,gov,miss', 'constr,miss,subst', 'ortho,misspell,graph', 'ortho,infl,miss', 'miss,ortho,infl', 'gender,infl,ortho', 'constr,infl,ortho', 'ortho,misspell,infl', 'agrnum,constr', 'agrgender,miss', 'aux,agrgender,miss', 'agrgender,gender', 'lex,disc,constr', 'infl,num,constr', 'constr,agrcase,subst', 'miss,agrcase,agrnum,agrgender', 'space,prep', 'extra,tense', 'prep,miss,misspell', 'subst,agrnum', 'not-clear,ortho', 'agrnum,subst', 'space+ins', 'space+del', 'hyphen+ins', 'nominative', 'hyphen+del']\n"
     ]
    }
   ],
   "source": [
    "# 设置 pandas 显示选项，强制完整输出\n",
    "pd.set_option('display.max_rows', None)\n",
    "print(annotations['tag'].unique())\n",
    "print(annotations['tag'].unique().tolist())"
   ]
  },
  {
   "cell_type": "markdown",
   "id": "9c80c5b3",
   "metadata": {},
   "source": []
  },
  {
   "cell_type": "code",
   "execution_count": null,
   "id": "c16191a3",
   "metadata": {},
   "outputs": [],
   "source": []
  },
  {
   "cell_type": "code",
   "execution_count": 12,
   "id": "fa6d407c",
   "metadata": {},
   "outputs": [
    {
     "name": "stdout",
     "output_type": "stream",
     "text": [
      "主格错误数量： 91\n"
     ]
    }
   ],
   "source": [
    "nominative_errors = annotations[annotations['tag'] == 'nominative']\n",
    "print(\"主格错误数量：\", nominative_errors.shape[0])"
   ]
  },
  {
   "cell_type": "code",
   "execution_count": null,
   "id": "fcceed62",
   "metadata": {},
   "outputs": [
    {
     "name": "stdout",
     "output_type": "stream",
     "text": [
      "格一致错误中属格/宾格相关错误数量：0\n"
     ]
    }
   ],
   "source": [
    "# 1. 改写判断逻辑：用俄语语法判断属格/宾格错误（示例逻辑，需你补充实际语法规则）\n",
    "def is_genitive_or_accusative(row):\n",
    "    # 示例：根据俄语词尾判断（如属格词尾 -а/-я，宾格词尾 -у/-ю 等，需结合实际调整）\n",
    "    wrong = row['quote']\n",
    "    correct = row['correction']\n",
    "    # 替换为你的俄语语法判断逻辑，返回 True/False\n",
    "    return any(ending in wrong for ending in ['-а', '-я']) and any(ending in correct for ending in ['-у', '-ю'])  \n",
    "\n",
    "# 2. 用 .loc 避免警告，重新处理数据\n",
    "agrcase_errors = annotations[annotations['tag'] == 'agrcase'].copy()  # 显式拷贝，断开与原数据的关联\n",
    "agrcase_errors.loc[:, 'is_gen_acc'] = agrcase_errors.apply(is_genitive_or_accusative, axis=1)\n",
    "\n",
    "# 3. 统计数量\n",
    "gen_acc_count = agrcase_errors[agrcase_errors['is_gen_acc']].shape[0]\n",
    "print(f\"格一致错误中属格/宾格相关错误数量：{gen_acc_count}\")"
   ]
  },
  {
   "cell_type": "code",
   "execution_count": 14,
   "id": "8355ffd6",
   "metadata": {},
   "outputs": [
    {
     "name": "stdout",
     "output_type": "stream",
     "text": [
      "格一致错误中属格/宾格相关错误数量：0\n"
     ]
    },
    {
     "name": "stderr",
     "output_type": "stream",
     "text": [
      "/var/folders/8h/b0lq6_nn1_n6wpvbmw5r5b500000gn/T/ipykernel_73508/955335886.py:7: SettingWithCopyWarning: \n",
      "A value is trying to be set on a copy of a slice from a DataFrame.\n",
      "Try using .loc[row_indexer,col_indexer] = value instead\n",
      "\n",
      "See the caveats in the documentation: https://pandas.pydata.org/pandas-docs/stable/user_guide/indexing.html#returning-a-view-versus-a-copy\n",
      "  agrcase_errors['is_gen_acc'] = agrcase_errors.apply(is_genitive_or_accusative, axis=1)\n"
     ]
    }
   ],
   "source": [
    "# 假设从错误内容判断属格、宾格错误，这里简单模拟（需结合实际语法判断）\n",
    "def is_genitive_or_accusative(row):\n",
    "    # 结合 quote 和 correction，用俄语语法判断是否是属格/宾格错误\n",
    "    # 示例：若包含属格/宾格词尾差异逻辑，返回 True\n",
    "    return 'genitive' in row['quote'].lower() or 'accusative' in row['quote'].lower()  # 实际需替换为语法判断\n",
    "\n",
    "agrcase_errors['is_gen_acc'] = agrcase_errors.apply(is_genitive_or_accusative, axis=1)\n",
    "gen_acc_count = agrcase_errors[agrcase_errors['is_gen_acc']].shape[0]\n",
    "print(f\"格一致错误中属格/宾格相关错误数量：{gen_acc_count}\")"
   ]
  },
  {
   "cell_type": "code",
   "execution_count": 17,
   "id": "64969b8c",
   "metadata": {},
   "outputs": [
    {
     "name": "stdout",
     "output_type": "stream",
     "text": [
      "                  quote                correction\n",
      "1          промышленным              промышленных\n",
      "180                 том                       тот\n",
      "362         обоих стран             обеим странам\n",
      "450            входящие                  входящую\n",
      "451               любой                     любую\n",
      "537                  он                        им\n",
      "538                того                       тем\n",
      "540              работе                    работу\n",
      "556                сами                     самим\n",
      "643   обычные рестораны      в обычных ресторанах\n",
      "651          популярные               популярными\n",
      "679                СПИД                     СПИДа\n",
      "686                СПИД                     СПИДа\n",
      "708            В статьи                  В статье\n",
      "722               жизни                   о жизни\n",
      "723       администрации            администрацией\n",
      "726         всю историю               вся история\n",
      "749             распаха                    распах\n",
      "776     межкультурности        \"межкультурность\")\n",
      "787  один главный тезис  одним из главных тезисов\n"
     ]
    }
   ],
   "source": [
    "print(agrcase_errors[['quote', 'correction']].head(20)) "
   ]
  },
  {
   "cell_type": "code",
   "execution_count": 19,
   "id": "901beaf0",
   "metadata": {},
   "outputs": [
    {
     "name": "stdout",
     "output_type": "stream",
     "text": [
      "格一致错误中属格/宾格相关错误数量：0\n"
     ]
    }
   ],
   "source": [
    "def is_genitive_or_accusative(row):\n",
    "    wrong = row['quote']\n",
    "    correct = row['correction']\n",
    "    genitive_endings = ['-ым', '-ом', '-их', '-ей']\n",
    "    accusative_endings = ['-ой', '-ий', '-ом', '-ем']\n",
    "    return (any(wrong.endswith(end) for end in genitive_endings) and \n",
    "            any(correct.endswith(end) for end in genitive_endings) or \n",
    "            any(wrong.endswith(end) for end in accusative_endings) and \n",
    "            any(correct.endswith(end) for end in accusative_endings))\n",
    "\n",
    "agrcase_errors['is_gen_acc'] = agrcase_errors.apply(is_genitive_or_accusative, axis=1)\n",
    "gen_acc_count = agrcase_errors[agrcase_errors['is_gen_acc']].shape[0]\n",
    "print(f\"格一致错误中属格/宾格相关错误数量：{gen_acc_count}\")"
   ]
  },
  {
   "cell_type": "code",
   "execution_count": 21,
   "id": "1d034b58",
   "metadata": {},
   "outputs": [
    {
     "ename": "NameError",
     "evalue": "name 'merged_data' is not defined",
     "output_type": "error",
     "traceback": [
      "\u001b[0;31m---------------------------------------------------------------------------\u001b[0m",
      "\u001b[0;31mNameError\u001b[0m                                 Traceback (most recent call last)",
      "Cell \u001b[0;32mIn[21], line 14\u001b[0m\n\u001b[1;32m     12\u001b[0m stratified_samples \u001b[38;5;241m=\u001b[39m []\n\u001b[1;32m     13\u001b[0m \u001b[38;5;28;01mfor\u001b[39;00m word_class, ratio \u001b[38;5;129;01min\u001b[39;00m word_class_ratio\u001b[38;5;241m.\u001b[39mitems():\n\u001b[0;32m---> 14\u001b[0m     class_data \u001b[38;5;241m=\u001b[39m merged_data[merged_data[\u001b[38;5;124m'\u001b[39m\u001b[38;5;124mword_class\u001b[39m\u001b[38;5;124m'\u001b[39m] \u001b[38;5;241m==\u001b[39m word_class]\n\u001b[1;32m     15\u001b[0m     sample_size \u001b[38;5;241m=\u001b[39m \u001b[38;5;28mint\u001b[39m(\u001b[38;5;28mlen\u001b[39m(agrcase_errors) \u001b[38;5;241m*\u001b[39m ratio)\n\u001b[1;32m     16\u001b[0m     stratified_samples\u001b[38;5;241m.\u001b[39mappend(class_data\u001b[38;5;241m.\u001b[39mhead(sample_size))\n",
      "\u001b[0;31mNameError\u001b[0m: name 'merged_data' is not defined"
     ]
    }
   ],
   "source": [
    "import pandas as pd\n",
    "import numpy as np\n",
    "\n",
    "# 1. 随机排序数据\n",
    "agrcase_errors = agrcase_errors.sample(frac=1, random_state=42)  # random_state固定随机种子，确保可复现\n",
    "\n",
    "\n",
    "# 3. 定义词类分层比例（假设统计结果）\n",
    "word_class_ratio = {'noun': 0.6, 'adj': 0.3, 'pron': 0.1}\n",
    "\n",
    "# 4. 按比例抽取各层样本\n",
    "stratified_samples = []\n",
    "for word_class, ratio in word_class_ratio.items():\n",
    "    class_data = merged_data[merged_data['word_class'] == word_class]\n",
    "    sample_size = int(len(agrcase_errors) * ratio)\n",
    "    stratified_samples.append(class_data.head(sample_size))\n",
    "\n",
    "# 5. 合并分层样本\n",
    "final_sample = pd.concat(stratified_samples)\n",
    "\n",
    "# 6. 补充抽取低频错误（如属格错误）\n",
    "rare_errors = merged_data[merged_data['case_type'] == 'genitive']\n",
    "if len(rare_errors) < 10:  # 假设属格错误占比＜10%\n",
    "    final_sample = pd.concat([final_sample, rare_errors])\n",
    "\n",
    "# 7. 去重并导出\n",
    "final_sample = final_sample.drop_duplicates('sentence_id').head(100)  # 控制在100条\n",
    "final_sample[['sentence_id', 'quote', 'correction']].to_excel('格错误标注样本.xlsx', index=False)"
   ]
  },
  {
   "cell_type": "code",
   "execution_count": null,
   "id": "b86c25d2",
   "metadata": {},
   "outputs": [],
   "source": [
    "import pandas as pd\n",
    "\n",
    "# --- 1. 加载数据集 ---\n",
    "print(\"--- 1. 加载数据集 ---\")\n",
    "try:\n",
    "    documents_df = pd.read_csv('/Users/aloez/Downloads/documents.csv')\n",
    "    annotations_df = pd.read_csv('/Users/aloez/Downloads/annotations.csv')\n",
    "    print(\"数据集加载成功！\")\n",
    "    print(f\"documents.csv 包含 {len(documents_df)} 条记录。\")\n",
    "    print(f\"annotations.csv 包含 {len(annotations_df)} 条记录。\")\n",
    "\n",
    "except FileNotFoundError:\n",
    "    print(\"错误：请确保 'documents.csv' 和 'annotations.csv' 文件在当前目录下或提供正确路径。\")\n",
    "    exit() # 如果文件未找到，程序退出\n",
    "\n",
    "# --- 2. 初步查看数据结构 ---\n",
    "print(\"\\n--- 2. 初步查看 documents.csv 的前几行 ---\")\n",
    "print(documents_df.head())\n",
    "print(\"\\n--- 2. 初步查看 annotations.csv 的前几行 ---\")\n",
    "print(annotations_df.head())\n",
    "\n",
    "# 检查列名，确认是否存在 'native' 和 'tag'\n",
    "print(\"\\n--- documents.csv 的列名 ---\")\n",
    "print(documents_df.columns.tolist())\n",
    "print(\"\\n--- annotations.csv 的列名 ---\")\n",
    "print(annotations_df.columns.tolist())\n",
    "\n",
    "# 请根据实际输出，确认 `document_id` 或 `text_id` 等用于关联两个表的公共ID字段\n",
    "# 通常会有一个唯一的ID来连接文档信息和其对应的错误标注\n",
    "# 假设是 'document_id'，如果不是，请根据实际列名修改\n",
    "document_id_col_doc = 'document_id' # 假设 documents.csv 中的文档ID列名\n",
    "document_id_col_anno = 'document_id' # 假设 annotations.csv 中的文档ID列名\n",
    "\n",
    "if document_id_col_doc not in documents_df.columns:\n",
    "    print(f\"\\n警告：在 documents.csv 中未找到列 '{document_id_col_doc}'。请检查实际列名。\")\n",
    "if document_id_col_anno not in annotations_df.columns:\n",
    "    print(f\"警告：在 annotations.csv 中未找到列 '{document_id_col_anno}'。请检查实际列名。\")\n",
    "\n",
    "\n",
    "# --- 3. 筛选目标学习者数据 ---\n",
    "print(\"\\n--- 3. 筛选目标学习者数据 ---\")\n",
    "\n",
    "# 筛选母语为汉语 ('zho') 和英语 ('eng') 的学习者\n",
    "# 论文中通常使用ISO 639-2/3 代码，'zho'代表Chinese，'eng'代表English。\n",
    "# 请注意：如果您的数据集中使用了不同的编码（例如 'Chinese', 'English'），请修改这里的列表。\n",
    "target_languages = ['zho', 'eng']\n",
    "target_learners_df = documents_df[documents_df['native'].isin(target_languages)]\n",
    "\n",
    "print(f\"筛选出 {len(target_learners_df)} 条来自目标母语学习者的记录。\")\n",
    "print(\"目标学习者的母语分布：\")\n",
    "print(target_learners_df['native'].value_counts())\n",
    "\n",
    "# 提取目标学习者的 document_id (或其他唯一标识符)\n",
    "target_document_ids = target_learners_df[document_id_col_doc].unique()\n",
    "print(f\"提取出 {len(target_document_ids)} 个目标学习者的唯一文档ID。\")\n",
    "\n",
    "\n",
    "# --- 4. 在 annotations 文件中定位动词体（Asp）错误 ---\n",
    "print(\"\\n--- 4. 在 annotations 文件中定位动词体（Asp）错误 ---\")\n",
    "\n",
    "# 查找所有 tag 字段为 'Asp' 的错误记录\n",
    "# 根据论文，'Asp' 是动词体的标签。\n",
    "# 如果初步检查中未出现，请务必在运行此代码后，手动检查 annotations.csv 的完整内容，\n",
    "# 或尝试搜索其他可能的动词体相关标签（如'Aspect', 'VerbAspect'等）。\n",
    "aspect_errors_df = annotations_df[annotations_df['tag'] == 'Asp'].copy() # 使用.copy()避免SettingWithCopyWarning\n",
    "\n",
    "print(f\"在 annotations.csv 中找到 {len(aspect_errors_df)} 条 'Asp' 错误记录。\")\n",
    "if len(aspect_errors_df) == 0:\n",
    "    print(\"警告：未找到任何 'Asp' 标签的错误。请再次确认 'annotations.csv' 中的 'tag' 列是否存在此标签，或是否存在其他表示动词体的标签。\")\n",
    "    print(\"annotations.csv 中 tag 列出现的前10个标签类型：\")\n",
    "    print(annotations_df['tag'].value_counts().head(10)) # 打印前10个最常见的tag，帮助您识别\n",
    "\n",
    "# --- 5. 关联目标学习者数据与动词体错误标注 ---\n",
    "print(\"\\n--- 5. 关联目标学习者数据与动词体错误标注 ---\")\n",
    "\n",
    "# 将 aspect_errors_df 进一步筛选，只保留属于目标学习者的错误\n",
    "target_aspect_errors_df = aspect_errors_df[\n",
    "    aspect_errors_df[document_id_col_anno].isin(target_document_ids)\n",
    "].copy() # 使用.copy()避免SettingWithCopyWarning\n",
    "\n",
    "print(f\"最终筛选出 {len(target_aspect_errors_df)} 条来自目标学习者的动词体（Asp）错误。\")\n",
    "\n",
    "if len(target_aspect_errors_df) > 0:\n",
    "    print(\"\\n来自目标学习者的动词体错误示例（前5条）：\")\n",
    "    print(target_aspect_errors_df.head())\n",
    "\n",
    "    # （可选）合并 learning_native 信息到错误记录中，方便后续分析\n",
    "    # 确保合并时使用的 document_id 是共通的\n",
    "    merged_errors_df = pd.merge(\n",
    "        target_aspect_errors_df,\n",
    "        target_learners_df[[document_id_col_doc, 'native']],\n",
    "        left_on=document_id_col_anno,\n",
    "        right_on=document_id_col_doc,\n",
    "        how='left'\n",
    "    )\n",
    "    # 删除重复的 document_id 列，如果它们名称不同的话\n",
    "    if document_id_col_doc != document_id_col_anno:\n",
    "        merged_errors_df = merged_errors_df.drop(columns=[document_id_col_doc])\n",
    "\n",
    "    print(\"\\n合并学习者母语信息后的动词体错误示例（前5条）：\")\n",
    "    print(merged_errors_df.head())\n",
    "\n",
    "    # 查看这些错误的母语分布\n",
    "    print(\"\\n目标学习者动词体错误的母语分布：\")\n",
    "    print(merged_errors_df['native'].value_counts())\n",
    "\n",
    "    # 现在 merged_errors_df 包含了您需要的所有信息，可以保存以便后续分析\n",
    "    merged_errors_df.to_csv('target_aspect_errors.csv', index=False, encoding='utf-8-sig')\n",
    "    print(\"\\n已将筛选出的目标动词体错误保存到 'target_aspect_errors.csv'。\")\n",
    "\n",
    "else:\n",
    "    print(\"\\n没有找到来自目标学习者的动词体（Asp）错误。请检查标签名称是否正确或数据集内容。\")"
   ]
  }
 ],
 "metadata": {
  "kernelspec": {
   "display_name": "base",
   "language": "python",
   "name": "python3"
  },
  "language_info": {
   "codemirror_mode": {
    "name": "ipython",
    "version": 3
   },
   "file_extension": ".py",
   "mimetype": "text/x-python",
   "name": "python",
   "nbconvert_exporter": "python",
   "pygments_lexer": "ipython3",
   "version": "3.12.7"
  }
 },
 "nbformat": 4,
 "nbformat_minor": 5
}

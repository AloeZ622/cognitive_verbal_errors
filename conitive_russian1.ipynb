{
 "cells": [
  {
   "cell_type": "code",
   "execution_count": null,
   "id": "42db8146",
   "metadata": {},
   "outputs": [
    {
     "name": "stdout",
     "output_type": "stream",
     "text": [
      "       id  sentence_id              tag               quote  \\\n",
      "0    7944         1002            ortho           окружющей   \n",
      "1  101216         1006          agrcase        промышленным   \n",
      "2   18818         1009           syntax         воздействую   \n",
      "3  119778         1009     ortho,altern  желудожно-кишечный   \n",
      "4   18819         1012  syntax,transfer                 это   \n",
      "\n",
      "           correction  start  end annotation_source  \n",
      "0          окружающей     12   13            manual  \n",
      "1        промышленных      4    5            manual  \n",
      "2         воздействуя     12   13            manual  \n",
      "3  желудочно-кишечный     17   18            manual  \n",
      "4                          7    8            manual  \n",
      "['id', 'sentence_id', 'tag', 'quote', 'correction', 'start', 'end', 'annotation_source']\n"
     ]
    }
   ],
   "source": [
    "import pandas as pd\n",
    "\n",
    "# 加载数据\n",
    "df = pd.read_csv('/Users/aloez/Downloads/annotations.csv')\n",
    "\n",
    "# 查看前5行\n",
    "print(df.head())\n",
    "\n",
    "# 检查列名\n",
    "print(df.columns.tolist())"
   ]
  },
  {
   "cell_type": "code",
   "execution_count": 2,
   "id": "3dc20063",
   "metadata": {},
   "outputs": [
    {
     "name": "stdout",
     "output_type": "stream",
     "text": [
      "tag\n",
      "gov            2278\n",
      "agrcase         848\n",
      "infl            551\n",
      "syntax,gov      145\n",
      "gov,agrcase     104\n",
      "Name: count, dtype: int64\n"
     ]
    }
   ],
   "source": [
    "# 筛选格标记相关错误（根据您的需求调整）\n",
    "case_errors = df[df['tag'].str.contains('agrcase|gov|infl', case=False, na=False)]\n",
    "\n",
    "# 查看高频错误类型\n",
    "print(case_errors['tag'].value_counts().head(5))"
   ]
  },
  {
   "cell_type": "code",
   "execution_count": 4,
   "id": "1f7d55e4",
   "metadata": {},
   "outputs": [
    {
     "name": "stdout",
     "output_type": "stream",
     "text": [
      "匹配到的中文干扰错误数量: 0\n",
      "⚠️ 未发现含中文量词特征的错误，请检查：\n",
      "- 数据中是否包含汉语母语者的错误\n",
      "- 正则表达式是否需要调整（当前模式：'的|个|张|种'）\n"
     ]
    }
   ],
   "source": [
    "# 先确认是否真的没有中文干扰案例\n",
    "print(\"匹配到的中文干扰错误数量:\", len(zh_errors))\n",
    "if len(zh_errors) == 0:\n",
    "    print(\"⚠️ 未发现含中文量词特征的错误，请检查：\")\n",
    "    print(\"- 数据中是否包含汉语母语者的错误\")\n",
    "    print(\"- 正则表达式是否需要调整（当前模式：'的|个|张|种'）\")"
   ]
  },
  {
   "cell_type": "code",
   "execution_count": 5,
   "id": "4ac0fec8",
   "metadata": {},
   "outputs": [
    {
     "name": "stdout",
     "output_type": "stream",
     "text": [
      "未找到符合条件的数据，尝试以下方法：\n",
      "1. 放宽正则条件：zh_pattern = r'的|个|张|种|这|那'\n",
      "2. 检查原始数据编码：df = pd.read_csv(..., encoding='utf-8')\n"
     ]
    }
   ],
   "source": [
    "# 安全的抽样写法（自动处理空数据情况）\n",
    "if not zh_errors.empty:\n",
    "    print(zh_errors[['quote', 'correction', 'tag']].sample(min(3, len(zh_errors))))\n",
    "else:\n",
    "    print(\"未找到符合条件的数据，尝试以下方法：\")\n",
    "    print(\"1. 放宽正则条件：zh_pattern = r'的|个|张|种|这|那'\")\n",
    "    print(\"2. 检查原始数据编码：df = pd.read_csv(..., encoding='utf-8')\")"
   ]
  },
  {
   "cell_type": "code",
   "execution_count": 6,
   "id": "a003ced1",
   "metadata": {},
   "outputs": [
    {
     "name": "stdout",
     "output_type": "stream",
     "text": [
      "'的книга': True\n",
      "'个стол': True\n",
      "'apple': False\n",
      "'书本': False\n"
     ]
    }
   ],
   "source": [
    "# 验证正则表达式是否有效\n",
    "test_cases = [\"的книга\", \"个стол\", \"apple\", \"书本\"]  # 测试用例\n",
    "for s in test_cases:\n",
    "    print(f\"'{s}': {bool(pd.Series([s]).str.contains(zh_pattern, na=False)[0])}\")"
   ]
  },
  {
   "cell_type": "code",
   "execution_count": 8,
   "id": "ff92bcf3",
   "metadata": {},
   "outputs": [
    {
     "name": "stdout",
     "output_type": "stream",
     "text": [
      "数据中是否含中文字符： False\n"
     ]
    }
   ],
   "source": [
    "# 检查原始数据是否包含中文\n",
    "print(\"数据中是否含中文字符：\", df['quote'].str.contains(r'[\\u4e00-\\u9fff]').any())"
   ]
  },
  {
   "cell_type": "code",
   "execution_count": 9,
   "id": "67a1b913",
   "metadata": {},
   "outputs": [],
   "source": [
    "en_errors = case_errors[case_errors['quote'].str.contains(r'the|a|an', na=False)]"
   ]
  },
  {
   "cell_type": "code",
   "execution_count": 10,
   "id": "1ac2ea7d",
   "metadata": {},
   "outputs": [
    {
     "name": "stdout",
     "output_type": "stream",
     "text": [
      "扩展后匹配测试： True\n"
     ]
    }
   ],
   "source": [
    "# 扩展正则表达式以覆盖更多中文特征词\n",
    "zh_pattern = r'的|个|书|这|那|些|种'  # 新增常见量词/指示词\n",
    "print(\"扩展后匹配测试：\", pd.Series([\"书本\"]).str.contains(zh_pattern)[0])  # 现在应返回True"
   ]
  },
  {
   "cell_type": "code",
   "execution_count": 11,
   "id": "d56d4dcb",
   "metadata": {},
   "outputs": [
    {
     "name": "stdout",
     "output_type": "stream",
     "text": [
      "⚠️ 数据缺少母语标注字段，建议联系数据提供方\n"
     ]
    }
   ],
   "source": [
    "# 确认数据来源是否包含汉语母语者样本\n",
    "if 'native_language' in df.columns:\n",
    "    print(\"汉语母语者数据量：\", df[df['native_language'] == 'Chinese'].shape[0])\n",
    "else:\n",
    "    print(\"⚠️ 数据缺少母语标注字段，建议联系数据提供方\")"
   ]
  },
  {
   "cell_type": "code",
   "execution_count": 12,
   "id": "9ac873d5",
   "metadata": {},
   "outputs": [
    {
     "name": "stdout",
     "output_type": "stream",
     "text": [
      "英文冠词干扰案例：\n",
      "                      quote                correction           tag\n",
      "2857   США магазине Macy’ s  в США в магазине Macy’ s  transfer,gov\n",
      "11207                  Янa.                     Яной.       agrcase\n",
      "12326            стирaльние                стиральные          infl\n"
     ]
    }
   ],
   "source": [
    "# 先分析英文干扰模式（确认数据可用性）\n",
    "if not en_errors.empty:\n",
    "    print(\"英文冠词干扰案例：\")\n",
    "    print(en_errors[['quote', 'correction', 'tag']].head(3))"
   ]
  },
  {
   "cell_type": "code",
   "execution_count": null,
   "id": "6f09ce5e",
   "metadata": {},
   "outputs": [
    {
     "data": {
      "text/plain": [
       "<Axes: title={'center': '英文干扰错误类型分布'}>"
      ]
     },
     "execution_count": 13,
     "metadata": {},
     "output_type": "execute_result"
    },
    {
     "name": "stderr",
     "output_type": "stream",
     "text": [
      "/opt/homebrew/anaconda3/lib/python3.12/site-packages/IPython/core/events.py:82: UserWarning: Glyph 33521 (\\N{CJK UNIFIED IDEOGRAPH-82F1}) missing from font(s) DejaVu Sans.\n",
      "  func(*args, **kwargs)\n",
      "/opt/homebrew/anaconda3/lib/python3.12/site-packages/IPython/core/events.py:82: UserWarning: Glyph 25991 (\\N{CJK UNIFIED IDEOGRAPH-6587}) missing from font(s) DejaVu Sans.\n",
      "  func(*args, **kwargs)\n",
      "/opt/homebrew/anaconda3/lib/python3.12/site-packages/IPython/core/events.py:82: UserWarning: Glyph 24178 (\\N{CJK UNIFIED IDEOGRAPH-5E72}) missing from font(s) DejaVu Sans.\n",
      "  func(*args, **kwargs)\n",
      "/opt/homebrew/anaconda3/lib/python3.12/site-packages/IPython/core/events.py:82: UserWarning: Glyph 25200 (\\N{CJK UNIFIED IDEOGRAPH-6270}) missing from font(s) DejaVu Sans.\n",
      "  func(*args, **kwargs)\n",
      "/opt/homebrew/anaconda3/lib/python3.12/site-packages/IPython/core/events.py:82: UserWarning: Glyph 38169 (\\N{CJK UNIFIED IDEOGRAPH-9519}) missing from font(s) DejaVu Sans.\n",
      "  func(*args, **kwargs)\n",
      "/opt/homebrew/anaconda3/lib/python3.12/site-packages/IPython/core/events.py:82: UserWarning: Glyph 35823 (\\N{CJK UNIFIED IDEOGRAPH-8BEF}) missing from font(s) DejaVu Sans.\n",
      "  func(*args, **kwargs)\n",
      "/opt/homebrew/anaconda3/lib/python3.12/site-packages/IPython/core/events.py:82: UserWarning: Glyph 31867 (\\N{CJK UNIFIED IDEOGRAPH-7C7B}) missing from font(s) DejaVu Sans.\n",
      "  func(*args, **kwargs)\n",
      "/opt/homebrew/anaconda3/lib/python3.12/site-packages/IPython/core/events.py:82: UserWarning: Glyph 22411 (\\N{CJK UNIFIED IDEOGRAPH-578B}) missing from font(s) DejaVu Sans.\n",
      "  func(*args, **kwargs)\n",
      "/opt/homebrew/anaconda3/lib/python3.12/site-packages/IPython/core/events.py:82: UserWarning: Glyph 20998 (\\N{CJK UNIFIED IDEOGRAPH-5206}) missing from font(s) DejaVu Sans.\n",
      "  func(*args, **kwargs)\n",
      "/opt/homebrew/anaconda3/lib/python3.12/site-packages/IPython/core/events.py:82: UserWarning: Glyph 24067 (\\N{CJK UNIFIED IDEOGRAPH-5E03}) missing from font(s) DejaVu Sans.\n",
      "  func(*args, **kwargs)\n",
      "/opt/homebrew/anaconda3/lib/python3.12/site-packages/IPython/core/pylabtools.py:170: UserWarning: Glyph 33521 (\\N{CJK UNIFIED IDEOGRAPH-82F1}) missing from font(s) DejaVu Sans.\n",
      "  fig.canvas.print_figure(bytes_io, **kw)\n",
      "/opt/homebrew/anaconda3/lib/python3.12/site-packages/IPython/core/pylabtools.py:170: UserWarning: Glyph 25991 (\\N{CJK UNIFIED IDEOGRAPH-6587}) missing from font(s) DejaVu Sans.\n",
      "  fig.canvas.print_figure(bytes_io, **kw)\n",
      "/opt/homebrew/anaconda3/lib/python3.12/site-packages/IPython/core/pylabtools.py:170: UserWarning: Glyph 24178 (\\N{CJK UNIFIED IDEOGRAPH-5E72}) missing from font(s) DejaVu Sans.\n",
      "  fig.canvas.print_figure(bytes_io, **kw)\n",
      "/opt/homebrew/anaconda3/lib/python3.12/site-packages/IPython/core/pylabtools.py:170: UserWarning: Glyph 25200 (\\N{CJK UNIFIED IDEOGRAPH-6270}) missing from font(s) DejaVu Sans.\n",
      "  fig.canvas.print_figure(bytes_io, **kw)\n",
      "/opt/homebrew/anaconda3/lib/python3.12/site-packages/IPython/core/pylabtools.py:170: UserWarning: Glyph 38169 (\\N{CJK UNIFIED IDEOGRAPH-9519}) missing from font(s) DejaVu Sans.\n",
      "  fig.canvas.print_figure(bytes_io, **kw)\n",
      "/opt/homebrew/anaconda3/lib/python3.12/site-packages/IPython/core/pylabtools.py:170: UserWarning: Glyph 35823 (\\N{CJK UNIFIED IDEOGRAPH-8BEF}) missing from font(s) DejaVu Sans.\n",
      "  fig.canvas.print_figure(bytes_io, **kw)\n",
      "/opt/homebrew/anaconda3/lib/python3.12/site-packages/IPython/core/pylabtools.py:170: UserWarning: Glyph 31867 (\\N{CJK UNIFIED IDEOGRAPH-7C7B}) missing from font(s) DejaVu Sans.\n",
      "  fig.canvas.print_figure(bytes_io, **kw)\n",
      "/opt/homebrew/anaconda3/lib/python3.12/site-packages/IPython/core/pylabtools.py:170: UserWarning: Glyph 22411 (\\N{CJK UNIFIED IDEOGRAPH-578B}) missing from font(s) DejaVu Sans.\n",
      "  fig.canvas.print_figure(bytes_io, **kw)\n",
      "/opt/homebrew/anaconda3/lib/python3.12/site-packages/IPython/core/pylabtools.py:170: UserWarning: Glyph 20998 (\\N{CJK UNIFIED IDEOGRAPH-5206}) missing from font(s) DejaVu Sans.\n",
      "  fig.canvas.print_figure(bytes_io, **kw)\n",
      "/opt/homebrew/anaconda3/lib/python3.12/site-packages/IPython/core/pylabtools.py:170: UserWarning: Glyph 24067 (\\N{CJK UNIFIED IDEOGRAPH-5E03}) missing from font(s) DejaVu Sans.\n",
      "  fig.canvas.print_figure(bytes_io, **kw)\n"
     ]
    },
    {
     "data": {
      "image/png": "[encoded data removed]",
      "text/plain": [
       "<Figure size 640x480 with 1 Axes>"
      ]
     },
     "metadata": {},
     "output_type": "display_data"
    }
   ],
   "source": [
    "# 分析俄语-英语双语者的错误模式\n",
    "en_errors.groupby('tag').size().plot.pie(title='英文干扰错误类型分布')"
   ]
  },
  {
   "cell_type": "code",
   "execution_count": 15,
   "id": "4e327a21",
   "metadata": {},
   "outputs": [],
   "source": [
    "# 新代码（筛选俄语对英语的干扰）\n",
    "eng_errors = case_errors[\n",
    "    case_errors['correction'].str.contains(r'[a-zA-Z]') &  # 修正文本含英文\n",
    "    case_errors['quote'].str.contains(r'[а-яА-Я]')        # 原文本含俄语\n",
    "]"
   ]
  },
  {
   "cell_type": "code",
   "execution_count": 16,
   "id": "d621a9fb",
   "metadata": {},
   "outputs": [
    {
     "ename": "NameError",
     "evalue": "name 'plt' is not defined",
     "output_type": "error",
     "traceback": [
      "\u001b[0;31m---------------------------------------------------------------------------\u001b[0m",
      "\u001b[0;31mNameError\u001b[0m                                 Traceback (most recent call last)",
      "Cell \u001b[0;32mIn[16], line 11\u001b[0m\n\u001b[1;32m      1\u001b[0m \u001b[38;5;66;03m# 绘制俄语→英语干扰类型分布\u001b[39;00m\n\u001b[1;32m      2\u001b[0m (\n\u001b[1;32m      3\u001b[0m     eng_errors\u001b[38;5;241m.\u001b[39mgroupby(\u001b[38;5;124m'\u001b[39m\u001b[38;5;124mtag\u001b[39m\u001b[38;5;124m'\u001b[39m)\u001b[38;5;241m.\u001b[39msize()\n\u001b[1;32m      4\u001b[0m     \u001b[38;5;241m.\u001b[39msort_values(ascending\u001b[38;5;241m=\u001b[39m\u001b[38;5;28;01mFalse\u001b[39;00m)\n\u001b[0;32m   (...)\u001b[0m\n\u001b[1;32m      9\u001b[0m     )\n\u001b[1;32m     10\u001b[0m )\n\u001b[0;32m---> 11\u001b[0m plt\u001b[38;5;241m.\u001b[39mylabel(\u001b[38;5;124m'\u001b[39m\u001b[38;5;124m'\u001b[39m)\n",
      "\u001b[0;31mNameError\u001b[0m: name 'plt' is not defined"
     ]
    },
    {
     "name": "stderr",
     "output_type": "stream",
     "text": [
      "/opt/homebrew/anaconda3/lib/python3.12/site-packages/IPython/core/events.py:82: UserWarning: Glyph 20420 (\\N{CJK UNIFIED IDEOGRAPH-4FC4}) missing from font(s) DejaVu Sans.\n",
      "  func(*args, **kwargs)\n",
      "/opt/homebrew/anaconda3/lib/python3.12/site-packages/IPython/core/events.py:82: UserWarning: Glyph 35821 (\\N{CJK UNIFIED IDEOGRAPH-8BED}) missing from font(s) DejaVu Sans.\n",
      "  func(*args, **kwargs)\n",
      "/opt/homebrew/anaconda3/lib/python3.12/site-packages/IPython/core/events.py:82: UserWarning: Glyph 23545 (\\N{CJK UNIFIED IDEOGRAPH-5BF9}) missing from font(s) DejaVu Sans.\n",
      "  func(*args, **kwargs)\n",
      "/opt/homebrew/anaconda3/lib/python3.12/site-packages/IPython/core/events.py:82: UserWarning: Glyph 33521 (\\N{CJK UNIFIED IDEOGRAPH-82F1}) missing from font(s) DejaVu Sans.\n",
      "  func(*args, **kwargs)\n",
      "/opt/homebrew/anaconda3/lib/python3.12/site-packages/IPython/core/events.py:82: UserWarning: Glyph 30340 (\\N{CJK UNIFIED IDEOGRAPH-7684}) missing from font(s) DejaVu Sans.\n",
      "  func(*args, **kwargs)\n",
      "/opt/homebrew/anaconda3/lib/python3.12/site-packages/IPython/core/events.py:82: UserWarning: Glyph 24178 (\\N{CJK UNIFIED IDEOGRAPH-5E72}) missing from font(s) DejaVu Sans.\n",
      "  func(*args, **kwargs)\n",
      "/opt/homebrew/anaconda3/lib/python3.12/site-packages/IPython/core/events.py:82: UserWarning: Glyph 25200 (\\N{CJK UNIFIED IDEOGRAPH-6270}) missing from font(s) DejaVu Sans.\n",
      "  func(*args, **kwargs)\n",
      "/opt/homebrew/anaconda3/lib/python3.12/site-packages/IPython/core/events.py:82: UserWarning: Glyph 27169 (\\N{CJK UNIFIED IDEOGRAPH-6A21}) missing from font(s) DejaVu Sans.\n",
      "  func(*args, **kwargs)\n",
      "/opt/homebrew/anaconda3/lib/python3.12/site-packages/IPython/core/events.py:82: UserWarning: Glyph 24335 (\\N{CJK UNIFIED IDEOGRAPH-5F0F}) missing from font(s) DejaVu Sans.\n",
      "  func(*args, **kwargs)\n",
      "/opt/homebrew/anaconda3/lib/python3.12/site-packages/IPython/core/pylabtools.py:170: UserWarning: Glyph 20420 (\\N{CJK UNIFIED IDEOGRAPH-4FC4}) missing from font(s) DejaVu Sans.\n",
      "  fig.canvas.print_figure(bytes_io, **kw)\n",
      "/opt/homebrew/anaconda3/lib/python3.12/site-packages/IPython/core/pylabtools.py:170: UserWarning: Glyph 35821 (\\N{CJK UNIFIED IDEOGRAPH-8BED}) missing from font(s) DejaVu Sans.\n",
      "  fig.canvas.print_figure(bytes_io, **kw)\n",
      "/opt/homebrew/anaconda3/lib/python3.12/site-packages/IPython/core/pylabtools.py:170: UserWarning: Glyph 23545 (\\N{CJK UNIFIED IDEOGRAPH-5BF9}) missing from font(s) DejaVu Sans.\n",
      "  fig.canvas.print_figure(bytes_io, **kw)\n",
      "/opt/homebrew/anaconda3/lib/python3.12/site-packages/IPython/core/pylabtools.py:170: UserWarning: Glyph 33521 (\\N{CJK UNIFIED IDEOGRAPH-82F1}) missing from font(s) DejaVu Sans.\n",
      "  fig.canvas.print_figure(bytes_io, **kw)\n",
      "/opt/homebrew/anaconda3/lib/python3.12/site-packages/IPython/core/pylabtools.py:170: UserWarning: Glyph 30340 (\\N{CJK UNIFIED IDEOGRAPH-7684}) missing from font(s) DejaVu Sans.\n",
      "  fig.canvas.print_figure(bytes_io, **kw)\n",
      "/opt/homebrew/anaconda3/lib/python3.12/site-packages/IPython/core/pylabtools.py:170: UserWarning: Glyph 24178 (\\N{CJK UNIFIED IDEOGRAPH-5E72}) missing from font(s) DejaVu Sans.\n",
      "  fig.canvas.print_figure(bytes_io, **kw)\n",
      "/opt/homebrew/anaconda3/lib/python3.12/site-packages/IPython/core/pylabtools.py:170: UserWarning: Glyph 25200 (\\N{CJK UNIFIED IDEOGRAPH-6270}) missing from font(s) DejaVu Sans.\n",
      "  fig.canvas.print_figure(bytes_io, **kw)\n",
      "/opt/homebrew/anaconda3/lib/python3.12/site-packages/IPython/core/pylabtools.py:170: UserWarning: Glyph 27169 (\\N{CJK UNIFIED IDEOGRAPH-6A21}) missing from font(s) DejaVu Sans.\n",
      "  fig.canvas.print_figure(bytes_io, **kw)\n",
      "/opt/homebrew/anaconda3/lib/python3.12/site-packages/IPython/core/pylabtools.py:170: UserWarning: Glyph 24335 (\\N{CJK UNIFIED IDEOGRAPH-5F0F}) missing from font(s) DejaVu Sans.\n",
      "  fig.canvas.print_figure(bytes_io, **kw)\n"
     ]
    },
    {
     "data": {
      "image/png": "[encoded data removed]",
      "text/plain": [
       "<Figure size 800x800 with 1 Axes>"
      ]
     },
     "metadata": {},
     "output_type": "display_data"
    }
   ],
   "source": [
    "# 绘制俄语→英语干扰类型分布\n",
    "(\n",
    "    eng_errors.groupby('tag').size()\n",
    "    .sort_values(ascending=False)\n",
    "    .plot.pie(\n",
    "        title='俄语对英语的干扰模式',\n",
    "        autopct='%1.1f%%',\n",
    "        figsize=(8, 8)\n",
    "    )\n",
    ")\n",
    "plt.ylabel('')  # 隐藏冗余标签"
   ]
  },
  {
   "cell_type": "code",
   "execution_count": null,
   "id": "82cba169",
   "metadata": {},
   "outputs": [],
   "source": []
  }
 ],
 "metadata": {
  "kernelspec": {
   "display_name": "base",
   "language": "python",
   "name": "python3"
  },
  "language_info": {
   "codemirror_mode": {
    "name": "ipython",
    "version": 3
   },
   "file_extension": ".py",
   "mimetype": "text/x-python",
   "name": "python",
   "nbconvert_exporter": "python",
   "pygments_lexer": "ipython3",
   "version": "3.12.7"
  }
 },
 "nbformat": 4,
 "nbformat_minor": 5
}
